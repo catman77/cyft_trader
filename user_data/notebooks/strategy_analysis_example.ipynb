{
 "cells": [
  {
   "cell_type": "markdown",
   "metadata": {},
   "source": [
    "# Strategy analysis example\n",
    "\n",
    "Debugging a strategy can be time-consuming. Freqtrade offers helper functions to visualize raw data.\n",
    "The following assumes you work with SampleStrategy, data for 5m timeframe from Binance and have downloaded them into the data directory in the default location.\n",
    "Please follow the [documentation](https://www.freqtrade.io/en/stable/data-download/) for more details."
   ]
  },
  {
   "cell_type": "markdown",
   "metadata": {},
   "source": [
    "## Setup\n",
    "\n",
    "### Change Working directory to repository root"
   ]
  },
  {
   "cell_type": "code",
   "execution_count": 22,
   "metadata": {},
   "outputs": [
    {
     "name": "stdout",
     "output_type": "stream",
     "text": [
      "/freqtrade\n"
     ]
    }
   ],
   "source": [
    "import os\n",
    "from pathlib import Path\n",
    "\n",
    "# Change directory\n",
    "# Modify this cell to insure that the output shows the correct path.\n",
    "# Define all paths relative to the project root shown in the cell output\n",
    "project_root = \"\"\n",
    "i=0\n",
    "try:\n",
    "    os.chdir(project_root)\n",
    "    assert Path('LICENSE').is_file()\n",
    "except:\n",
    "    while i<4 and (not Path('LICENSE').is_file()):\n",
    "        os.chdir(Path(Path.cwd(), '../'))\n",
    "        i+=1\n",
    "    project_root = Path.cwd()\n",
    "print(Path.cwd())"
   ]
  },
  {
   "cell_type": "markdown",
   "metadata": {},
   "source": [
    "### Configure Freqtrade environment"
   ]
  },
  {
   "cell_type": "code",
   "execution_count": 23,
   "metadata": {},
   "outputs": [
    {
     "name": "stdout",
     "output_type": "stream",
     "text": [
      "/freqtrade/user_data/data/binance\n"
     ]
    }
   ],
   "source": [
    "from freqtrade.configuration import Configuration\n",
    "\n",
    "# Customize these according to your needs.\n",
    "\n",
    "# Initialize empty configuration object\n",
    "# config = Configuration.from_files([])\n",
    "# Optionally (recommended), use existing configuration file\n",
    "config = Configuration.from_files([\"user_data/config.json\"])\n",
    "\n",
    "# Define some constants\n",
    "config[\"timeframe\"] = \"15m\"\n",
    "# Name of the strategy class\n",
    "config[\"strategy\"] = \"MeanReversionStrategy\"\n",
    "# Location of the data\n",
    "data_location = config[\"datadir\"]\n",
    "# Pair to analyze - Only use one pair here\n",
    "pair = \"SUI/USDT:USDT\"\n",
    "print(data_location)"
   ]
  },
  {
   "cell_type": "code",
   "execution_count": 24,
   "metadata": {},
   "outputs": [
    {
     "name": "stdout",
     "output_type": "stream",
     "text": [
      "Loaded 36191 rows of data for SUI/USDT:USDT from /freqtrade/user_data/data/binance\n"
     ]
    },
    {
     "data": {
      "text/html": [
       "<div>\n",
       "<style scoped>\n",
       "    .dataframe tbody tr th:only-of-type {\n",
       "        vertical-align: middle;\n",
       "    }\n",
       "\n",
       "    .dataframe tbody tr th {\n",
       "        vertical-align: top;\n",
       "    }\n",
       "\n",
       "    .dataframe thead th {\n",
       "        text-align: right;\n",
       "    }\n",
       "</style>\n",
       "<table border=\"1\" class=\"dataframe\">\n",
       "  <thead>\n",
       "    <tr style=\"text-align: right;\">\n",
       "      <th></th>\n",
       "      <th>date</th>\n",
       "      <th>open</th>\n",
       "      <th>high</th>\n",
       "      <th>low</th>\n",
       "      <th>close</th>\n",
       "      <th>volume</th>\n",
       "    </tr>\n",
       "  </thead>\n",
       "  <tbody>\n",
       "    <tr>\n",
       "      <th>0</th>\n",
       "      <td>2023-05-03 16:00:00+00:00</td>\n",
       "      <td>1.4030</td>\n",
       "      <td>1.4030</td>\n",
       "      <td>1.2652</td>\n",
       "      <td>1.3338</td>\n",
       "      <td>11474534.0</td>\n",
       "    </tr>\n",
       "    <tr>\n",
       "      <th>1</th>\n",
       "      <td>2023-05-03 16:15:00+00:00</td>\n",
       "      <td>1.3339</td>\n",
       "      <td>1.3863</td>\n",
       "      <td>1.3327</td>\n",
       "      <td>1.3716</td>\n",
       "      <td>16090260.4</td>\n",
       "    </tr>\n",
       "    <tr>\n",
       "      <th>2</th>\n",
       "      <td>2023-05-03 16:30:00+00:00</td>\n",
       "      <td>1.3717</td>\n",
       "      <td>1.3957</td>\n",
       "      <td>1.3547</td>\n",
       "      <td>1.3857</td>\n",
       "      <td>13192974.2</td>\n",
       "    </tr>\n",
       "    <tr>\n",
       "      <th>3</th>\n",
       "      <td>2023-05-03 16:45:00+00:00</td>\n",
       "      <td>1.3866</td>\n",
       "      <td>1.3924</td>\n",
       "      <td>1.3652</td>\n",
       "      <td>1.3733</td>\n",
       "      <td>11951258.0</td>\n",
       "    </tr>\n",
       "    <tr>\n",
       "      <th>4</th>\n",
       "      <td>2023-05-03 17:00:00+00:00</td>\n",
       "      <td>1.3731</td>\n",
       "      <td>1.3756</td>\n",
       "      <td>1.3405</td>\n",
       "      <td>1.3574</td>\n",
       "      <td>12698235.4</td>\n",
       "    </tr>\n",
       "  </tbody>\n",
       "</table>\n",
       "</div>"
      ],
      "text/plain": [
       "                       date    open    high     low   close      volume\n",
       "0 2023-05-03 16:00:00+00:00  1.4030  1.4030  1.2652  1.3338  11474534.0\n",
       "1 2023-05-03 16:15:00+00:00  1.3339  1.3863  1.3327  1.3716  16090260.4\n",
       "2 2023-05-03 16:30:00+00:00  1.3717  1.3957  1.3547  1.3857  13192974.2\n",
       "3 2023-05-03 16:45:00+00:00  1.3866  1.3924  1.3652  1.3733  11951258.0\n",
       "4 2023-05-03 17:00:00+00:00  1.3731  1.3756  1.3405  1.3574  12698235.4"
      ]
     },
     "execution_count": 24,
     "metadata": {},
     "output_type": "execute_result"
    }
   ],
   "source": [
    "# Load data using values set above\n",
    "from freqtrade.data.history import load_pair_history\n",
    "from freqtrade.enums import CandleType\n",
    "\n",
    "candles = load_pair_history(datadir=data_location,\n",
    "                            timeframe=config[\"timeframe\"],\n",
    "                            pair=pair,\n",
    "                            data_format = \"feather\",  # Make sure to update this to your data\n",
    "                            candle_type=CandleType.FUTURES,\n",
    "                            )\n",
    "\n",
    "# Confirm success\n",
    "print(f\"Loaded {len(candles)} rows of data for {pair} from {data_location}\")\n",
    "candles.head()"
   ]
  },
  {
   "cell_type": "markdown",
   "metadata": {},
   "source": [
    "## Load and run strategy\n",
    "* Rerun each time the strategy file is changed"
   ]
  },
  {
   "cell_type": "code",
   "execution_count": 25,
   "metadata": {},
   "outputs": [
    {
     "data": {
      "text/html": [
       "<div>\n",
       "<style scoped>\n",
       "    .dataframe tbody tr th:only-of-type {\n",
       "        vertical-align: middle;\n",
       "    }\n",
       "\n",
       "    .dataframe tbody tr th {\n",
       "        vertical-align: top;\n",
       "    }\n",
       "\n",
       "    .dataframe thead th {\n",
       "        text-align: right;\n",
       "    }\n",
       "</style>\n",
       "<table border=\"1\" class=\"dataframe\">\n",
       "  <thead>\n",
       "    <tr style=\"text-align: right;\">\n",
       "      <th></th>\n",
       "      <th>date</th>\n",
       "      <th>open</th>\n",
       "      <th>high</th>\n",
       "      <th>low</th>\n",
       "      <th>close</th>\n",
       "      <th>volume</th>\n",
       "      <th>return</th>\n",
       "      <th>volume_threshold_16_49</th>\n",
       "      <th>wbb_upperband_36_2</th>\n",
       "      <th>wbb_lowerband_36_2</th>\n",
       "      <th>wbb_middleband_36_2</th>\n",
       "      <th>enter_tag</th>\n",
       "      <th>enter_long</th>\n",
       "      <th>enter_short</th>\n",
       "      <th>exit_tag</th>\n",
       "    </tr>\n",
       "  </thead>\n",
       "  <tbody>\n",
       "    <tr>\n",
       "      <th>36186</th>\n",
       "      <td>2024-05-14 14:30:00+00:00</td>\n",
       "      <td>0.9190</td>\n",
       "      <td>0.9236</td>\n",
       "      <td>0.9088</td>\n",
       "      <td>0.9137</td>\n",
       "      <td>4596078.6</td>\n",
       "      <td>-0.005551</td>\n",
       "      <td>7.915209e+06</td>\n",
       "      <td>0.010172</td>\n",
       "      <td>-0.012721</td>\n",
       "      <td>-0.001274</td>\n",
       "      <td></td>\n",
       "      <td>NaN</td>\n",
       "      <td>NaN</td>\n",
       "      <td></td>\n",
       "    </tr>\n",
       "    <tr>\n",
       "      <th>36187</th>\n",
       "      <td>2024-05-14 14:45:00+00:00</td>\n",
       "      <td>0.9136</td>\n",
       "      <td>0.9136</td>\n",
       "      <td>0.9070</td>\n",
       "      <td>0.9098</td>\n",
       "      <td>2432348.7</td>\n",
       "      <td>-0.004268</td>\n",
       "      <td>7.994324e+06</td>\n",
       "      <td>0.009872</td>\n",
       "      <td>-0.012745</td>\n",
       "      <td>-0.001436</td>\n",
       "      <td></td>\n",
       "      <td>NaN</td>\n",
       "      <td>NaN</td>\n",
       "      <td></td>\n",
       "    </tr>\n",
       "    <tr>\n",
       "      <th>36188</th>\n",
       "      <td>2024-05-14 15:00:00+00:00</td>\n",
       "      <td>0.9099</td>\n",
       "      <td>0.9104</td>\n",
       "      <td>0.9024</td>\n",
       "      <td>0.9091</td>\n",
       "      <td>3116459.8</td>\n",
       "      <td>-0.000769</td>\n",
       "      <td>8.060373e+06</td>\n",
       "      <td>0.007808</td>\n",
       "      <td>-0.010608</td>\n",
       "      <td>-0.001400</td>\n",
       "      <td></td>\n",
       "      <td>NaN</td>\n",
       "      <td>NaN</td>\n",
       "      <td></td>\n",
       "    </tr>\n",
       "    <tr>\n",
       "      <th>36189</th>\n",
       "      <td>2024-05-14 15:15:00+00:00</td>\n",
       "      <td>0.9093</td>\n",
       "      <td>0.9174</td>\n",
       "      <td>0.9088</td>\n",
       "      <td>0.9142</td>\n",
       "      <td>2986349.9</td>\n",
       "      <td>0.005610</td>\n",
       "      <td>8.180112e+06</td>\n",
       "      <td>0.008318</td>\n",
       "      <td>-0.010361</td>\n",
       "      <td>-0.001021</td>\n",
       "      <td></td>\n",
       "      <td>NaN</td>\n",
       "      <td>NaN</td>\n",
       "      <td></td>\n",
       "    </tr>\n",
       "    <tr>\n",
       "      <th>36190</th>\n",
       "      <td>2024-05-14 15:30:00+00:00</td>\n",
       "      <td>0.9141</td>\n",
       "      <td>0.9141</td>\n",
       "      <td>0.9059</td>\n",
       "      <td>0.9065</td>\n",
       "      <td>1774524.4</td>\n",
       "      <td>-0.008423</td>\n",
       "      <td>8.208383e+06</td>\n",
       "      <td>0.007534</td>\n",
       "      <td>-0.010376</td>\n",
       "      <td>-0.001421</td>\n",
       "      <td></td>\n",
       "      <td>NaN</td>\n",
       "      <td>NaN</td>\n",
       "      <td></td>\n",
       "    </tr>\n",
       "  </tbody>\n",
       "</table>\n",
       "</div>"
      ],
      "text/plain": [
       "                           date    open    high     low   close     volume  \\\n",
       "36186 2024-05-14 14:30:00+00:00  0.9190  0.9236  0.9088  0.9137  4596078.6   \n",
       "36187 2024-05-14 14:45:00+00:00  0.9136  0.9136  0.9070  0.9098  2432348.7   \n",
       "36188 2024-05-14 15:00:00+00:00  0.9099  0.9104  0.9024  0.9091  3116459.8   \n",
       "36189 2024-05-14 15:15:00+00:00  0.9093  0.9174  0.9088  0.9142  2986349.9   \n",
       "36190 2024-05-14 15:30:00+00:00  0.9141  0.9141  0.9059  0.9065  1774524.4   \n",
       "\n",
       "         return  volume_threshold_16_49  wbb_upperband_36_2  \\\n",
       "36186 -0.005551            7.915209e+06            0.010172   \n",
       "36187 -0.004268            7.994324e+06            0.009872   \n",
       "36188 -0.000769            8.060373e+06            0.007808   \n",
       "36189  0.005610            8.180112e+06            0.008318   \n",
       "36190 -0.008423            8.208383e+06            0.007534   \n",
       "\n",
       "       wbb_lowerband_36_2  wbb_middleband_36_2 enter_tag  enter_long  \\\n",
       "36186           -0.012721            -0.001274                   NaN   \n",
       "36187           -0.012745            -0.001436                   NaN   \n",
       "36188           -0.010608            -0.001400                   NaN   \n",
       "36189           -0.010361            -0.001021                   NaN   \n",
       "36190           -0.010376            -0.001421                   NaN   \n",
       "\n",
       "       enter_short exit_tag  \n",
       "36186          NaN           \n",
       "36187          NaN           \n",
       "36188          NaN           \n",
       "36189          NaN           \n",
       "36190          NaN           "
      ]
     },
     "execution_count": 25,
     "metadata": {},
     "output_type": "execute_result"
    }
   ],
   "source": [
    "# Load strategy using values set above\n",
    "from freqtrade.resolvers import StrategyResolver\n",
    "from freqtrade.data.dataprovider import DataProvider\n",
    "strategy = StrategyResolver.load_strategy(config)\n",
    "strategy.dp = DataProvider(config, None, None)\n",
    "strategy.ft_bot_start()\n",
    "\n",
    "# Generate buy/sell signals using strategy\n",
    "df = strategy.analyze_ticker(candles, {'pair': pair})\n",
    "df.tail()"
   ]
  },
  {
   "cell_type": "markdown",
   "metadata": {},
   "source": [
    "### Display the trade details\n",
    "\n",
    "* Note that using `data.head()` would also work, however most indicators have some \"startup\" data at the top of the dataframe.\n",
    "* Some possible problems\n",
    "    * Columns with NaN values at the end of the dataframe\n",
    "    * Columns used in `crossed*()` functions with completely different units\n",
    "* Comparison with full backtest\n",
    "    * having 200 buy signals as output for one pair from `analyze_ticker()` does not necessarily mean that 200 trades will be made during backtesting.\n",
    "    * Assuming you use only one condition such as, `df['rsi'] < 30` as buy condition, this will generate multiple \"buy\" signals for each pair in sequence (until rsi returns > 29). The bot will only buy on the first of these signals (and also only if a trade-slot (\"max_open_trades\") is still available), or on one of the middle signals, as soon as a \"slot\" becomes available.  \n"
   ]
  },
  {
   "cell_type": "code",
   "execution_count": 15,
   "metadata": {},
   "outputs": [
    {
     "name": "stdout",
     "output_type": "stream",
     "text": [
      "Generated 357.0 entry signals\n"
     ]
    },
    {
     "data": {
      "text/html": [
       "<div>\n",
       "<style scoped>\n",
       "    .dataframe tbody tr th:only-of-type {\n",
       "        vertical-align: middle;\n",
       "    }\n",
       "\n",
       "    .dataframe tbody tr th {\n",
       "        vertical-align: top;\n",
       "    }\n",
       "\n",
       "    .dataframe thead th {\n",
       "        text-align: right;\n",
       "    }\n",
       "</style>\n",
       "<table border=\"1\" class=\"dataframe\">\n",
       "  <thead>\n",
       "    <tr style=\"text-align: right;\">\n",
       "      <th></th>\n",
       "      <th>date</th>\n",
       "      <th>open</th>\n",
       "      <th>high</th>\n",
       "      <th>low</th>\n",
       "      <th>close</th>\n",
       "      <th>volume</th>\n",
       "      <th>return</th>\n",
       "      <th>volume_threshold_16_49</th>\n",
       "      <th>wbb_upperband_36_2</th>\n",
       "      <th>wbb_lowerband_36_2</th>\n",
       "      <th>wbb_middleband_36_2</th>\n",
       "      <th>enter_tag</th>\n",
       "      <th>enter_long</th>\n",
       "      <th>enter_short</th>\n",
       "      <th>exit_tag</th>\n",
       "    </tr>\n",
       "    <tr>\n",
       "      <th>date</th>\n",
       "      <th></th>\n",
       "      <th></th>\n",
       "      <th></th>\n",
       "      <th></th>\n",
       "      <th></th>\n",
       "      <th></th>\n",
       "      <th></th>\n",
       "      <th></th>\n",
       "      <th></th>\n",
       "      <th></th>\n",
       "      <th></th>\n",
       "      <th></th>\n",
       "      <th></th>\n",
       "      <th></th>\n",
       "      <th></th>\n",
       "    </tr>\n",
       "  </thead>\n",
       "  <tbody>\n",
       "    <tr>\n",
       "      <th>2024-05-14 14:30:00+00:00</th>\n",
       "      <td>2024-05-14 14:30:00+00:00</td>\n",
       "      <td>0.9190</td>\n",
       "      <td>0.9236</td>\n",
       "      <td>0.9088</td>\n",
       "      <td>0.9137</td>\n",
       "      <td>4596078.6</td>\n",
       "      <td>-0.005551</td>\n",
       "      <td>7.915209e+06</td>\n",
       "      <td>0.010172</td>\n",
       "      <td>-0.012721</td>\n",
       "      <td>-0.001274</td>\n",
       "      <td></td>\n",
       "      <td>NaN</td>\n",
       "      <td>NaN</td>\n",
       "      <td></td>\n",
       "    </tr>\n",
       "    <tr>\n",
       "      <th>2024-05-14 14:45:00+00:00</th>\n",
       "      <td>2024-05-14 14:45:00+00:00</td>\n",
       "      <td>0.9136</td>\n",
       "      <td>0.9136</td>\n",
       "      <td>0.9070</td>\n",
       "      <td>0.9098</td>\n",
       "      <td>2432348.7</td>\n",
       "      <td>-0.004268</td>\n",
       "      <td>7.994324e+06</td>\n",
       "      <td>0.009872</td>\n",
       "      <td>-0.012745</td>\n",
       "      <td>-0.001436</td>\n",
       "      <td></td>\n",
       "      <td>NaN</td>\n",
       "      <td>NaN</td>\n",
       "      <td></td>\n",
       "    </tr>\n",
       "    <tr>\n",
       "      <th>2024-05-14 15:00:00+00:00</th>\n",
       "      <td>2024-05-14 15:00:00+00:00</td>\n",
       "      <td>0.9099</td>\n",
       "      <td>0.9104</td>\n",
       "      <td>0.9024</td>\n",
       "      <td>0.9091</td>\n",
       "      <td>3116459.8</td>\n",
       "      <td>-0.000769</td>\n",
       "      <td>8.060373e+06</td>\n",
       "      <td>0.007808</td>\n",
       "      <td>-0.010608</td>\n",
       "      <td>-0.001400</td>\n",
       "      <td></td>\n",
       "      <td>NaN</td>\n",
       "      <td>NaN</td>\n",
       "      <td></td>\n",
       "    </tr>\n",
       "    <tr>\n",
       "      <th>2024-05-14 15:15:00+00:00</th>\n",
       "      <td>2024-05-14 15:15:00+00:00</td>\n",
       "      <td>0.9093</td>\n",
       "      <td>0.9174</td>\n",
       "      <td>0.9088</td>\n",
       "      <td>0.9142</td>\n",
       "      <td>2986349.9</td>\n",
       "      <td>0.005610</td>\n",
       "      <td>8.180112e+06</td>\n",
       "      <td>0.008318</td>\n",
       "      <td>-0.010361</td>\n",
       "      <td>-0.001021</td>\n",
       "      <td></td>\n",
       "      <td>NaN</td>\n",
       "      <td>NaN</td>\n",
       "      <td></td>\n",
       "    </tr>\n",
       "    <tr>\n",
       "      <th>2024-05-14 15:30:00+00:00</th>\n",
       "      <td>2024-05-14 15:30:00+00:00</td>\n",
       "      <td>0.9141</td>\n",
       "      <td>0.9141</td>\n",
       "      <td>0.9059</td>\n",
       "      <td>0.9065</td>\n",
       "      <td>1774524.4</td>\n",
       "      <td>-0.008423</td>\n",
       "      <td>8.208383e+06</td>\n",
       "      <td>0.007534</td>\n",
       "      <td>-0.010376</td>\n",
       "      <td>-0.001421</td>\n",
       "      <td></td>\n",
       "      <td>NaN</td>\n",
       "      <td>NaN</td>\n",
       "      <td></td>\n",
       "    </tr>\n",
       "  </tbody>\n",
       "</table>\n",
       "</div>"
      ],
      "text/plain": [
       "                                               date    open    high     low  \\\n",
       "date                                                                          \n",
       "2024-05-14 14:30:00+00:00 2024-05-14 14:30:00+00:00  0.9190  0.9236  0.9088   \n",
       "2024-05-14 14:45:00+00:00 2024-05-14 14:45:00+00:00  0.9136  0.9136  0.9070   \n",
       "2024-05-14 15:00:00+00:00 2024-05-14 15:00:00+00:00  0.9099  0.9104  0.9024   \n",
       "2024-05-14 15:15:00+00:00 2024-05-14 15:15:00+00:00  0.9093  0.9174  0.9088   \n",
       "2024-05-14 15:30:00+00:00 2024-05-14 15:30:00+00:00  0.9141  0.9141  0.9059   \n",
       "\n",
       "                            close     volume    return  \\\n",
       "date                                                     \n",
       "2024-05-14 14:30:00+00:00  0.9137  4596078.6 -0.005551   \n",
       "2024-05-14 14:45:00+00:00  0.9098  2432348.7 -0.004268   \n",
       "2024-05-14 15:00:00+00:00  0.9091  3116459.8 -0.000769   \n",
       "2024-05-14 15:15:00+00:00  0.9142  2986349.9  0.005610   \n",
       "2024-05-14 15:30:00+00:00  0.9065  1774524.4 -0.008423   \n",
       "\n",
       "                           volume_threshold_16_49  wbb_upperband_36_2  \\\n",
       "date                                                                    \n",
       "2024-05-14 14:30:00+00:00            7.915209e+06            0.010172   \n",
       "2024-05-14 14:45:00+00:00            7.994324e+06            0.009872   \n",
       "2024-05-14 15:00:00+00:00            8.060373e+06            0.007808   \n",
       "2024-05-14 15:15:00+00:00            8.180112e+06            0.008318   \n",
       "2024-05-14 15:30:00+00:00            8.208383e+06            0.007534   \n",
       "\n",
       "                           wbb_lowerband_36_2  wbb_middleband_36_2 enter_tag  \\\n",
       "date                                                                           \n",
       "2024-05-14 14:30:00+00:00           -0.012721            -0.001274             \n",
       "2024-05-14 14:45:00+00:00           -0.012745            -0.001436             \n",
       "2024-05-14 15:00:00+00:00           -0.010608            -0.001400             \n",
       "2024-05-14 15:15:00+00:00           -0.010361            -0.001021             \n",
       "2024-05-14 15:30:00+00:00           -0.010376            -0.001421             \n",
       "\n",
       "                           enter_long  enter_short exit_tag  \n",
       "date                                                         \n",
       "2024-05-14 14:30:00+00:00         NaN          NaN           \n",
       "2024-05-14 14:45:00+00:00         NaN          NaN           \n",
       "2024-05-14 15:00:00+00:00         NaN          NaN           \n",
       "2024-05-14 15:15:00+00:00         NaN          NaN           \n",
       "2024-05-14 15:30:00+00:00         NaN          NaN           "
      ]
     },
     "execution_count": 15,
     "metadata": {},
     "output_type": "execute_result"
    }
   ],
   "source": [
    "# Report results\n",
    "print(f\"Generated {df['enter_long'].sum()} entry signals\")\n",
    "data = df.set_index('date', drop=False)\n",
    "data.tail()"
   ]
  },
  {
   "cell_type": "markdown",
   "metadata": {},
   "source": [
    "## Load existing objects into a Jupyter notebook\n",
    "\n",
    "The following cells assume that you have already generated data using the cli.  \n",
    "They will allow you to drill deeper into your results, and perform analysis which otherwise would make the output very difficult to digest due to information overload."
   ]
  },
  {
   "cell_type": "markdown",
   "metadata": {},
   "source": [
    "### Load backtest results to pandas dataframe\n",
    "\n",
    "Analyze a trades dataframe (also used below for plotting)"
   ]
  },
  {
   "cell_type": "code",
   "execution_count": 16,
   "metadata": {},
   "outputs": [],
   "source": [
    "from freqtrade.data.btanalysis import load_backtest_data, load_backtest_stats\n",
    "\n",
    "# if backtest_dir points to a directory, it'll automatically load the last backtest file.\n",
    "backtest_dir = config[\"user_data_dir\"] / \"backtest_results\"\n",
    "# backtest_dir can also point to a specific file\n",
    "# backtest_dir = config[\"user_data_dir\"] / \"backtest_results/backtest-result-2024-05-08_13-19-59.json\""
   ]
  },
  {
   "cell_type": "code",
   "execution_count": 17,
   "metadata": {},
   "outputs": [
    {
     "name": "stdout",
     "output_type": "stream",
     "text": [
      "[{'key': '1000PEPE/USDT:USDT', 'trades': 501, 'profit_mean': 0.005768021715644424, 'profit_mean_pct': 0.58, 'profit_sum': 2.8897788795378565, 'profit_sum_pct': 288.98, 'profit_total_abs': 5670.06515716, 'profit_total': 0.567006515716, 'profit_total_pct': 56.7, 'duration_avg': '4:55:00', 'wins': 372, 'draws': 1, 'losses': 128, 'winrate': 0.7425149700598802}, {'key': 'SUI/USDT:USDT', 'trades': 423, 'profit_mean': 0.006015941231581851, 'profit_mean_pct': 0.6, 'profit_sum': 2.544743140959123, 'profit_sum_pct': 254.47, 'profit_total_abs': 4144.1721468999995, 'profit_total': 0.4144172146899999, 'profit_total_pct': 41.44, 'duration_avg': '6:23:00', 'wins': 323, 'draws': 3, 'losses': 97, 'winrate': 0.7635933806146572}, {'key': 'LTC/USDT:USDT', 'trades': 490, 'profit_mean': 0.0016494723706392525, 'profit_mean_pct': 0.16, 'profit_sum': 0.8082414616132336, 'profit_sum_pct': 80.82, 'profit_total_abs': 1267.5999574999996, 'profit_total': 0.12675999574999997, 'profit_total_pct': 12.68, 'duration_avg': '11:44:00', 'wins': 356, 'draws': 2, 'losses': 132, 'winrate': 0.726530612244898}, {'key': 'TOTAL', 'trades': 1414, 'profit_mean': 0.0044149671019167, 'profit_mean_pct': 0.44, 'profit_sum': 6.242763482110213, 'profit_sum_pct': 624.28, 'profit_total_abs': 11081.837261560002, 'profit_total': 1.108183726156, 'profit_total_pct': 110.82, 'duration_avg': '7:43:00', 'wins': 1051, 'draws': 6, 'losses': 357, 'winrate': 0.7432814710042432}]\n",
      "['1000PEPE/USDT:USDT', 'LTC/USDT:USDT', 'SUI/USDT:USDT']\n",
      "0.17845356998784145\n",
      "1.8982346245390804\n",
      "2024-03-30 18:45:00\n",
      "2024-04-13 20:00:00\n",
      "[{'key': 'MeanReversionStrategy', 'trades': 1414, 'profit_mean': 0.0044149671019167, 'profit_mean_pct': 0.44, 'profit_sum': 6.242763482110213, 'profit_sum_pct': 624.28, 'profit_total_abs': 11081.837261560002, 'profit_total': 1.108183726156, 'profit_total_pct': 110.82, 'duration_avg': '7:43:00', 'wins': 1051, 'draws': 6, 'losses': 357, 'winrate': 0.7432814710042432, 'max_drawdown_account': 0.2335292162975197, 'max_drawdown_abs': '5620.577'}]\n"
     ]
    }
   ],
   "source": [
    "# You can get the full backtest statistics by using the following command.\n",
    "# This contains all information used to generate the backtest result.\n",
    "stats = load_backtest_stats(backtest_dir)\n",
    "\n",
    "strategy = 'MeanReversionStrategy'\n",
    "# All statistics are available per strategy, so if `--strategy-list` was used during backtest, this will be reflected here as well.\n",
    "# Example usages:\n",
    "print(stats['strategy'][strategy]['results_per_pair'])\n",
    "# Get pairlist used for this backtest\n",
    "print(stats['strategy'][strategy]['pairlist'])\n",
    "# Get market change (average change of all pairs from start to end of the backtest period)\n",
    "print(stats['strategy'][strategy]['market_change'])\n",
    "# Maximum drawdown ()\n",
    "print(stats['strategy'][strategy]['max_drawdown'])\n",
    "# Maximum drawdown start and end\n",
    "print(stats['strategy'][strategy]['drawdown_start'])\n",
    "print(stats['strategy'][strategy]['drawdown_end'])\n",
    "\n",
    "\n",
    "# Get strategy comparison (only relevant if multiple strategies were compared)\n",
    "print(stats['strategy_comparison'])\n"
   ]
  },
  {
   "cell_type": "code",
   "execution_count": 26,
   "metadata": {},
   "outputs": [
    {
     "data": {
      "text/plain": [
       "pair                exit_reason       \n",
       "1000PEPE/USDT:USDT  roi                   411\n",
       "                    stop_loss              89\n",
       "                    trailing_stop_loss      1\n",
       "LTC/USDT:USDT       roi                   439\n",
       "                    stop_loss              50\n",
       "                    trailing_stop_loss      1\n",
       "SUI/USDT:USDT       roi                   363\n",
       "                    stop_loss              60\n",
       "Name: count, dtype: int64"
      ]
     },
     "execution_count": 26,
     "metadata": {},
     "output_type": "execute_result"
    }
   ],
   "source": [
    "# Load backtested trades as dataframe\n",
    "trades = load_backtest_data(backtest_dir)\n",
    "\n",
    "# Show value-counts per pair\n",
    "trades.groupby(\"pair\")[\"exit_reason\"].value_counts()"
   ]
  },
  {
   "cell_type": "markdown",
   "metadata": {},
   "source": [
    "## Plotting daily profit / equity line"
   ]
  },
  {
   "cell_type": "code",
   "execution_count": 27,
   "metadata": {},
   "outputs": [
    {
     "data": {
      "application/vnd.plotly.v1+json": {
       "config": {
        "plotlyServerURL": "https://plot.ly"
       },
       "data": [
        {
         "hovertemplate": "dates=%{x}<br>equity_daily=%{y}<extra></extra>",
         "legendgroup": "",
         "line": {
          "color": "#636efa",
          "dash": "solid"
         },
         "marker": {
          "symbol": "circle"
         },
         "mode": "lines",
         "name": "",
         "orientation": "v",
         "showlegend": false,
         "type": "scatter",
         "x": [
          "2023-01-02",
          "2023-01-03",
          "2023-01-04",
          "2023-01-05",
          "2023-01-06",
          "2023-01-07",
          "2023-01-08",
          "2023-01-09",
          "2023-01-10",
          "2023-01-11",
          "2023-01-12",
          "2023-01-13",
          "2023-01-14",
          "2023-01-15",
          "2023-01-16",
          "2023-01-17",
          "2023-01-18",
          "2023-01-19",
          "2023-01-20",
          "2023-01-21",
          "2023-01-22",
          "2023-01-23",
          "2023-01-24",
          "2023-01-25",
          "2023-01-26",
          "2023-01-27",
          "2023-01-28",
          "2023-01-29",
          "2023-01-30",
          "2023-01-31",
          "2023-02-01",
          "2023-02-02",
          "2023-02-03",
          "2023-02-04",
          "2023-02-05",
          "2023-02-06",
          "2023-02-07",
          "2023-02-08",
          "2023-02-09",
          "2023-02-10",
          "2023-02-11",
          "2023-02-12",
          "2023-02-13",
          "2023-02-14",
          "2023-02-15",
          "2023-02-16",
          "2023-02-17",
          "2023-02-18",
          "2023-02-19",
          "2023-02-20",
          "2023-02-21",
          "2023-02-22",
          "2023-02-23",
          "2023-02-24",
          "2023-02-25",
          "2023-02-26",
          "2023-02-27",
          "2023-02-28",
          "2023-03-01",
          "2023-03-02",
          "2023-03-03",
          "2023-03-04",
          "2023-03-05",
          "2023-03-06",
          "2023-03-07",
          "2023-03-08",
          "2023-03-09",
          "2023-03-10",
          "2023-03-11",
          "2023-03-12",
          "2023-03-13",
          "2023-03-14",
          "2023-03-15",
          "2023-03-16",
          "2023-03-17",
          "2023-03-18",
          "2023-03-19",
          "2023-03-20",
          "2023-03-21",
          "2023-03-22",
          "2023-03-23",
          "2023-03-24",
          "2023-03-25",
          "2023-03-26",
          "2023-03-27",
          "2023-03-28",
          "2023-03-29",
          "2023-03-30",
          "2023-03-31",
          "2023-04-01",
          "2023-04-02",
          "2023-04-03",
          "2023-04-04",
          "2023-04-05",
          "2023-04-06",
          "2023-04-07",
          "2023-04-08",
          "2023-04-09",
          "2023-04-10",
          "2023-04-11",
          "2023-04-12",
          "2023-04-13",
          "2023-04-14",
          "2023-04-15",
          "2023-04-16",
          "2023-04-17",
          "2023-04-18",
          "2023-04-19",
          "2023-04-20",
          "2023-04-21",
          "2023-04-22",
          "2023-04-23",
          "2023-04-24",
          "2023-04-25",
          "2023-04-26",
          "2023-04-27",
          "2023-04-28",
          "2023-04-29",
          "2023-04-30",
          "2023-05-01",
          "2023-05-02",
          "2023-05-03",
          "2023-05-04",
          "2023-05-05",
          "2023-05-06",
          "2023-05-07",
          "2023-05-08",
          "2023-05-09",
          "2023-05-10",
          "2023-05-11",
          "2023-05-12",
          "2023-05-13",
          "2023-05-14",
          "2023-05-15",
          "2023-05-16",
          "2023-05-17",
          "2023-05-18",
          "2023-05-19",
          "2023-05-20",
          "2023-05-21",
          "2023-05-22",
          "2023-05-23",
          "2023-05-24",
          "2023-05-25",
          "2023-05-26",
          "2023-05-27",
          "2023-05-28",
          "2023-05-29",
          "2023-05-30",
          "2023-05-31",
          "2023-06-01",
          "2023-06-02",
          "2023-06-03",
          "2023-06-04",
          "2023-06-05",
          "2023-06-06",
          "2023-06-07",
          "2023-06-08",
          "2023-06-09",
          "2023-06-10",
          "2023-06-11",
          "2023-06-12",
          "2023-06-13",
          "2023-06-14",
          "2023-06-15",
          "2023-06-16",
          "2023-06-17",
          "2023-06-18",
          "2023-06-19",
          "2023-06-20",
          "2023-06-21",
          "2023-06-22",
          "2023-06-23",
          "2023-06-24",
          "2023-06-25",
          "2023-06-26",
          "2023-06-27",
          "2023-06-28",
          "2023-06-29",
          "2023-06-30",
          "2023-07-01",
          "2023-07-02",
          "2023-07-03",
          "2023-07-04",
          "2023-07-05",
          "2023-07-06",
          "2023-07-07",
          "2023-07-08",
          "2023-07-09",
          "2023-07-10",
          "2023-07-11",
          "2023-07-12",
          "2023-07-13",
          "2023-07-14",
          "2023-07-15",
          "2023-07-16",
          "2023-07-17",
          "2023-07-18",
          "2023-07-19",
          "2023-07-20",
          "2023-07-21",
          "2023-07-22",
          "2023-07-23",
          "2023-07-24",
          "2023-07-25",
          "2023-07-26",
          "2023-07-27",
          "2023-07-28",
          "2023-07-29",
          "2023-07-30",
          "2023-07-31",
          "2023-08-01",
          "2023-08-02",
          "2023-08-03",
          "2023-08-04",
          "2023-08-05",
          "2023-08-06",
          "2023-08-07",
          "2023-08-08",
          "2023-08-09",
          "2023-08-10",
          "2023-08-11",
          "2023-08-12",
          "2023-08-13",
          "2023-08-14",
          "2023-08-15",
          "2023-08-16",
          "2023-08-17",
          "2023-08-18",
          "2023-08-19",
          "2023-08-20",
          "2023-08-21",
          "2023-08-22",
          "2023-08-23",
          "2023-08-24",
          "2023-08-25",
          "2023-08-26",
          "2023-08-27",
          "2023-08-28",
          "2023-08-29",
          "2023-08-30",
          "2023-08-31",
          "2023-09-01",
          "2023-09-02",
          "2023-09-03",
          "2023-09-04",
          "2023-09-05",
          "2023-09-06",
          "2023-09-07",
          "2023-09-08",
          "2023-09-09",
          "2023-09-10",
          "2023-09-11",
          "2023-09-12",
          "2023-09-13",
          "2023-09-14",
          "2023-09-15",
          "2023-09-16",
          "2023-09-17",
          "2023-09-18",
          "2023-09-19",
          "2023-09-20",
          "2023-09-21",
          "2023-09-22",
          "2023-09-23",
          "2023-09-24",
          "2023-09-25",
          "2023-09-26",
          "2023-09-27",
          "2023-09-28",
          "2023-09-29",
          "2023-09-30",
          "2023-10-01",
          "2023-10-02",
          "2023-10-03",
          "2023-10-04",
          "2023-10-05",
          "2023-10-06",
          "2023-10-07",
          "2023-10-08",
          "2023-10-09",
          "2023-10-10",
          "2023-10-11",
          "2023-10-12",
          "2023-10-13",
          "2023-10-14",
          "2023-10-15",
          "2023-10-16",
          "2023-10-17",
          "2023-10-18",
          "2023-10-19",
          "2023-10-20",
          "2023-10-21",
          "2023-10-22",
          "2023-10-23",
          "2023-10-24",
          "2023-10-25",
          "2023-10-26",
          "2023-10-27",
          "2023-10-28",
          "2023-10-29",
          "2023-10-30",
          "2023-10-31",
          "2023-11-01",
          "2023-11-02",
          "2023-11-03",
          "2023-11-04",
          "2023-11-05",
          "2023-11-06",
          "2023-11-07",
          "2023-11-08",
          "2023-11-09",
          "2023-11-10",
          "2023-11-11",
          "2023-11-12",
          "2023-11-13",
          "2023-11-14",
          "2023-11-15",
          "2023-11-16",
          "2023-11-17",
          "2023-11-18",
          "2023-11-19",
          "2023-11-20",
          "2023-11-21",
          "2023-11-22",
          "2023-11-23",
          "2023-11-24",
          "2023-11-25",
          "2023-11-26",
          "2023-11-27",
          "2023-11-28",
          "2023-11-29",
          "2023-11-30",
          "2023-12-01",
          "2023-12-02",
          "2023-12-03",
          "2023-12-04",
          "2023-12-05",
          "2023-12-06",
          "2023-12-07",
          "2023-12-08",
          "2023-12-09",
          "2023-12-10",
          "2023-12-11",
          "2023-12-12",
          "2023-12-13",
          "2023-12-14",
          "2023-12-15",
          "2023-12-16",
          "2023-12-17",
          "2023-12-18",
          "2023-12-19",
          "2023-12-20",
          "2023-12-21",
          "2023-12-22",
          "2023-12-23",
          "2023-12-24",
          "2023-12-25",
          "2023-12-26",
          "2023-12-27",
          "2023-12-28",
          "2023-12-29",
          "2023-12-30",
          "2023-12-31",
          "2024-01-01",
          "2024-01-02",
          "2024-01-03",
          "2024-01-04",
          "2024-01-05",
          "2024-01-06",
          "2024-01-07",
          "2024-01-08",
          "2024-01-09",
          "2024-01-10",
          "2024-01-11",
          "2024-01-12",
          "2024-01-13",
          "2024-01-14",
          "2024-01-15",
          "2024-01-16",
          "2024-01-17",
          "2024-01-18",
          "2024-01-19",
          "2024-01-20",
          "2024-01-21",
          "2024-01-22",
          "2024-01-23",
          "2024-01-24",
          "2024-01-25",
          "2024-01-26",
          "2024-01-27",
          "2024-01-28",
          "2024-01-29",
          "2024-01-30",
          "2024-01-31",
          "2024-02-01",
          "2024-02-02",
          "2024-02-03",
          "2024-02-04",
          "2024-02-05",
          "2024-02-06",
          "2024-02-07",
          "2024-02-08",
          "2024-02-09",
          "2024-02-10",
          "2024-02-11",
          "2024-02-12",
          "2024-02-13",
          "2024-02-14",
          "2024-02-15",
          "2024-02-16",
          "2024-02-17",
          "2024-02-18",
          "2024-02-19",
          "2024-02-20",
          "2024-02-21",
          "2024-02-22",
          "2024-02-23",
          "2024-02-24",
          "2024-02-25",
          "2024-02-26",
          "2024-02-27",
          "2024-02-28",
          "2024-02-29",
          "2024-03-01",
          "2024-03-02",
          "2024-03-03",
          "2024-03-04",
          "2024-03-05",
          "2024-03-06",
          "2024-03-07",
          "2024-03-08",
          "2024-03-09",
          "2024-03-10",
          "2024-03-11",
          "2024-03-12",
          "2024-03-13",
          "2024-03-14",
          "2024-03-15",
          "2024-03-16",
          "2024-03-17",
          "2024-03-18",
          "2024-03-19",
          "2024-03-20",
          "2024-03-21",
          "2024-03-22",
          "2024-03-23",
          "2024-03-24",
          "2024-03-25",
          "2024-03-26",
          "2024-03-27",
          "2024-03-28",
          "2024-03-29",
          "2024-03-30",
          "2024-03-31",
          "2024-04-01",
          "2024-04-02",
          "2024-04-03",
          "2024-04-04",
          "2024-04-05",
          "2024-04-06",
          "2024-04-07",
          "2024-04-08",
          "2024-04-09",
          "2024-04-10",
          "2024-04-11",
          "2024-04-12",
          "2024-04-13",
          "2024-04-14",
          "2024-04-15",
          "2024-04-16",
          "2024-04-17",
          "2024-04-18",
          "2024-04-19",
          "2024-04-20",
          "2024-04-21",
          "2024-04-22",
          "2024-04-23",
          "2024-04-24",
          "2024-04-25",
          "2024-04-26",
          "2024-04-27",
          "2024-04-28",
          "2024-04-29",
          "2024-04-30"
         ],
         "xaxis": "x",
         "y": [
          -215.63697558,
          -173.98379667,
          -173.67939415,
          -122.60954228,
          -80.56032313,
          -80.56032313,
          -292.57864444,
          -292.57864444,
          -292.57864444,
          -499.02918056,
          -498.43897791,
          -457.69638647,
          -456.67062119,
          -415.74945249,
          -265.83984813,
          -172.97187873000001,
          -130.83458370000002,
          -130.83458370000002,
          -342.17476561,
          -300.33546486,
          -259.04400361,
          -211.90932447,
          -168.22973988,
          -126.37247899000002,
          -126.37247899000002,
          -84.03495802000002,
          1.1810161199999811,
          -171.80304469,
          -87.33647133000001,
          -87.33647133000001,
          -44.82484653000001,
          -44.82484653000001,
          -44.82484653000001,
          -44.82484653000001,
          -41.34386348000001,
          -42.56273222000001,
          70.13366954999998,
          118.56517792999998,
          118.56517792999998,
          117.69492539999997,
          160.82590068999997,
          204.56017991999997,
          380.42428825999997,
          424.93429689,
          200.51670054,
          276.37302393,
          276.37302393,
          276.37302393,
          276.37302393,
          51.416769749999986,
          51.416769749999986,
          50.805531659999986,
          51.22802724999998,
          51.22802724999998,
          50.00966536999998,
          50.00966536999998,
          50.321134129999976,
          92.82088792999997,
          93.13258315999997,
          136.09699518999997,
          136.09699518999997,
          136.09699518999997,
          142.80377997999997,
          142.49307482999998,
          142.39181657999998,
          186.06115436,
          9.785389649999985,
          129.84352887999998,
          174.69726040999998,
          -1.3870683300000053,
          -428.18824512000003,
          -345.02432349000003,
          -286.87451673000004,
          -286.87451673000004,
          -245.22486456000004,
          -245.22486456000004,
          -204.57297341000003,
          -140.80424892000002,
          -66.99597248000002,
          107.36660634999997,
          150.70671959999999,
          238.26014277,
          282.16095613,
          282.30873631,
          472.25273223,
          472.25273223,
          472.25273223,
          518.87468736,
          563.91295284,
          564.56933727,
          587.01986779,
          670.4826132000001,
          689.9104255200001,
          689.9173095000001,
          693.3766073,
          693.47583906,
          693.47583906,
          710.28170004,
          710.61324845,
          710.61324845,
          758.04109005,
          758.04109005,
          758.04109005,
          758.04109005,
          529.14436095,
          529.14436095,
          529.14436095,
          303.19034615,
          302.75405348,
          347.24966032,
          347.24966032,
          347.24966032,
          366.10057191,
          366.10057191,
          366.87426959,
          411.32623688999996,
          455.64843218999994,
          455.64843218999994,
          501.39281481999996,
          501.39281481999996,
          545.9485415299999,
          560.7905346499999,
          629.049595,
          725.7658557799999,
          863.02878842,
          628.8282585899999,
          209.36705691999992,
          253.25031776999992,
          897.0398119399999,
          522.93533437,
          226.65558853,
          228.57399701999998,
          227.64711124,
          210.94856456,
          339.81581792,
          306.44145239,
          623.0489781399999,
          711.5874891699999,
          664.9448207999999,
          991.8727658899999,
          1256.12134492,
          1402.2584546,
          1300.33545688,
          1348.7912944700001,
          1696.16645251,
          1872.24868829,
          2029.34619484,
          2080.19143898,
          2324.20823323,
          2433.1335575900002,
          2541.3212718000004,
          2429.9071108800003,
          2596.0828201300005,
          2655.3587199400004,
          1248.9085405100004,
          1470.4080544300004,
          1783.2482396300004,
          1783.9790622000005,
          1675.6615952600005,
          1496.4824966800004,
          1495.9950841900004,
          1779.7874881400003,
          2132.2284206800005,
          1616.5289082000004,
          1666.5855761200005,
          2126.9367500500007,
          2045.1510961100007,
          2096.8006932600006,
          1885.4213719700006,
          1784.3413343000007,
          1723.2378115700008,
          2417.076719910001,
          2772.592399400001,
          3007.617293790001,
          3108.925078860001,
          3283.271173340001,
          3396.368719860001,
          2531.588858270001,
          2659.715998230001,
          1731.207595050001,
          1832.0096118200008,
          2175.2149117100007,
          1819.3702424500007,
          1991.1774476500007,
          2127.6300638600005,
          2172.7922214700006,
          2223.3906831800005,
          2275.8045688100005,
          2453.2681584500006,
          2515.1424375200004,
          2522.7370006900005,
          2623.1489700000006,
          2079.1523823100006,
          2440.1213172300004,
          2493.8482729800003,
          2618.7346773000004,
          2998.0060258700005,
          3102.1659600000003,
          3100.10669193,
          3167.4286094,
          3223.57674191,
          3338.1885034999996,
          3507.9749470599995,
          3656.4640463799997,
          3843.1592347499995,
          4081.0768586699996,
          3836.6746714999995,
          3836.9610424199996,
          3846.1222767599997,
          3965.8009715499998,
          3988.4737214999996,
          4117.8050097899995,
          3873.3393406299997,
          3585.2274268999995,
          3292.2416793399993,
          3348.9025548999994,
          3372.9009766899994,
          3142.1515896499996,
          3236.8604300199995,
          3011.0952303899994,
          3011.0952303899994,
          3091.6919261099993,
          3092.0940134699995,
          2812.0024767699997,
          2923.8078817099995,
          2533.4039932599994,
          2316.7430129999993,
          3463.1625608799995,
          3185.9521599999994,
          3075.9433771499994,
          3224.539548569999,
          3458.9438469299994,
          3832.7393251099993,
          3832.1252983199993,
          3705.9416562299994,
          3897.5240591699994,
          4184.173349469999,
          4222.1128663399995,
          4281.95862317,
          3881.0340298999995,
          3890.6188585699997,
          4009.74407464,
          3770.6703270599996,
          3829.7189576799997,
          3888.8716928399995,
          4008.7058105599995,
          4216.8430632399995,
          4035.6203723699996,
          4075.7756476199997,
          4093.72519079,
          4094.43586118,
          3487.83624321,
          3303.0092548499997,
          3632.56019759,
          3872.36489678,
          3964.22956727,
          3725.6495449400004,
          3726.0727856300005,
          3489.9106543900007,
          3663.2902254300006,
          3722.228507810001,
          3861.7380281800006,
          3938.9833420700006,
          3402.0855476500005,
          3490.1559806600008,
          3663.767621180001,
          4018.2000006200005,
          4046.8900972200004,
          4167.355249220001,
          4229.439335960001,
          3675.819566690001,
          3734.461472960001,
          3196.932136050001,
          3025.995792130001,
          2739.790566010001,
          2758.505345230001,
          2968.171303530001,
          3023.778819560001,
          3079.220169090001,
          3079.220169090001,
          2567.767800920001,
          2593.671563170001,
          2686.283062090001,
          2740.329697970001,
          2738.3301554300006,
          2765.4937428200005,
          2871.7641522500007,
          3331.1726026300007,
          3331.1726026300007,
          3367.140500740001,
          3451.2941313700007,
          3511.1107496700006,
          2988.4770959200005,
          3147.6281588100005,
          2042.3662832700006,
          2178.172727750001,
          1820.5429940000008,
          2386.2667481900007,
          2490.139769430001,
          2594.867331470001,
          2633.760273730001,
          2908.571958600001,
          3013.373878240001,
          3220.0188103600008,
          3057.000763870001,
          3113.7695334200007,
          2887.6019787200007,
          3053.4442879900007,
          3295.0055931300008,
          3678.0095971400006,
          3735.8755875500005,
          2587.7590515800002,
          2820.40074124,
          3072.40962438,
          3347.00127102,
          4107.43008849,
          4538.10279413,
          4709.70442636,
          5049.89575979,
          5243.585037209999,
          5243.585037209999,
          5503.99103986,
          5910.810390879999,
          6299.06549981,
          6437.84031307,
          6158.84264862,
          6161.65307409,
          5988.15171065,
          6057.67319307,
          5778.58217842,
          5882.2970706999995,
          6132.04104595,
          6404.34977017,
          6504.17613078,
          7049.62289382,
          7444.069042900001,
          8020.650722370001,
          8093.892357810001,
          7784.882953090001,
          7963.007442910001,
          8138.434590510002,
          8898.773847620001,
          9275.052368300001,
          8981.527448320001,
          9115.363957470001,
          8381.802054360001,
          8553.710684130001,
          8633.268819230001,
          8793.77461186,
          9026.04193431,
          8206.99706047,
          8482.87773393,
          8722.739677759999,
          9086.105589849998,
          9130.664794729999,
          9403.988607509998,
          9224.263366059999,
          8932.214156589998,
          9581.540582769998,
          9238.319614109998,
          9656.530144669998,
          9819.603294199998,
          9819.603294199998,
          10157.886370449998,
          10242.562362789999,
          10036.452682629999,
          8962.258208019999,
          9313.132488919999,
          9337.203760449998,
          9050.745860689998,
          9132.433841259997,
          8351.586443629998,
          8673.159795719997,
          9243.380019479997,
          9663.693797089996,
          9788.593018979996,
          9968.715628729997,
          10054.341467719996,
          10054.376766479996,
          10313.080767699996,
          10755.006967199995,
          10041.876942129995,
          10796.663472729995,
          10796.029874679994,
          10885.209894389995,
          10808.364880089994,
          11000.376798719994,
          11180.206719349993,
          11180.206719349993,
          10717.842048209994,
          10721.137689859994,
          10832.459327509994,
          10930.193589749993,
          10496.032381459994,
          10852.560650079995,
          10983.279192529995,
          11213.075269009994,
          11355.145999289995,
          11384.556218359994,
          10852.826777579994,
          10941.590180899993,
          10942.241917539994,
          11222.866046809993,
          10778.084191359992,
          10905.568393769992,
          11157.284978979993,
          10884.037476009993,
          11011.055071819994,
          10574.330320089994,
          10892.293735839994,
          10918.617801009994,
          10723.884702309993,
          10723.586424659994,
          11112.883005199994,
          10951.761167559995,
          11279.562574539994,
          11516.809391099994,
          11052.790510269993,
          10683.333610499993,
          10772.023738279993,
          11471.960284709994,
          10921.897010679993,
          10536.700901549993,
          10624.761645899993,
          10440.831556239993,
          10221.233744149993,
          9987.236369569993,
          9410.960907269993,
          9438.416284219993,
          9860.641824849992,
          11270.291574779993,
          11150.259529699992,
          11876.950393379992,
          11967.618440639992,
          11204.105457669992,
          11859.559824759992,
          11953.293574109992,
          11571.986461639992,
          11189.991478919992,
          10641.289105099992,
          10641.289105099992,
          10832.958146749992,
          11303.187264019993,
          12288.348407919993,
          12846.349819479994,
          13160.228349199993,
          13458.490946009993,
          13458.490946009993,
          13267.842629429993,
          13674.865984479993,
          13164.949809869993,
          13910.126376009994,
          13524.276499469994,
          14067.983512089993,
          13660.071194799993,
          13263.483662429993,
          13260.292514129993,
          13149.851439939994,
          13896.721250319993,
          13481.489131149994,
          13481.489131149994,
          13619.200732469993,
          13821.758869059993,
          13510.404967289993,
          13179.975083519992,
          13509.909211059992,
          11529.315087369992,
          8447.406184649994,
          8686.214487919993,
          8926.825232019994,
          9768.760203149994,
          10139.123107239993,
          10310.440773609993,
          10999.369144809993,
          10722.141555469992,
          11176.440229819993,
          11267.244560389992,
          10808.841120229992,
          11377.582411239991,
          11588.378927649992,
          11677.969623729992,
          11900.796209429993,
          12247.389346819993,
          12246.720758869993,
          11081.837261559993
         ],
         "yaxis": "y"
        }
       ],
       "layout": {
        "legend": {
         "tracegroupgap": 0
        },
        "margin": {
         "t": 60
        },
        "template": {
         "data": {
          "bar": [
           {
            "error_x": {
             "color": "#2a3f5f"
            },
            "error_y": {
             "color": "#2a3f5f"
            },
            "marker": {
             "line": {
              "color": "#E5ECF6",
              "width": 0.5
             },
             "pattern": {
              "fillmode": "overlay",
              "size": 10,
              "solidity": 0.2
             }
            },
            "type": "bar"
           }
          ],
          "barpolar": [
           {
            "marker": {
             "line": {
              "color": "#E5ECF6",
              "width": 0.5
             },
             "pattern": {
              "fillmode": "overlay",
              "size": 10,
              "solidity": 0.2
             }
            },
            "type": "barpolar"
           }
          ],
          "carpet": [
           {
            "aaxis": {
             "endlinecolor": "#2a3f5f",
             "gridcolor": "white",
             "linecolor": "white",
             "minorgridcolor": "white",
             "startlinecolor": "#2a3f5f"
            },
            "baxis": {
             "endlinecolor": "#2a3f5f",
             "gridcolor": "white",
             "linecolor": "white",
             "minorgridcolor": "white",
             "startlinecolor": "#2a3f5f"
            },
            "type": "carpet"
           }
          ],
          "choropleth": [
           {
            "colorbar": {
             "outlinewidth": 0,
             "ticks": ""
            },
            "type": "choropleth"
           }
          ],
          "contour": [
           {
            "colorbar": {
             "outlinewidth": 0,
             "ticks": ""
            },
            "colorscale": [
             [
              0,
              "#0d0887"
             ],
             [
              0.1111111111111111,
              "#46039f"
             ],
             [
              0.2222222222222222,
              "#7201a8"
             ],
             [
              0.3333333333333333,
              "#9c179e"
             ],
             [
              0.4444444444444444,
              "#bd3786"
             ],
             [
              0.5555555555555556,
              "#d8576b"
             ],
             [
              0.6666666666666666,
              "#ed7953"
             ],
             [
              0.7777777777777778,
              "#fb9f3a"
             ],
             [
              0.8888888888888888,
              "#fdca26"
             ],
             [
              1,
              "#f0f921"
             ]
            ],
            "type": "contour"
           }
          ],
          "contourcarpet": [
           {
            "colorbar": {
             "outlinewidth": 0,
             "ticks": ""
            },
            "type": "contourcarpet"
           }
          ],
          "heatmap": [
           {
            "colorbar": {
             "outlinewidth": 0,
             "ticks": ""
            },
            "colorscale": [
             [
              0,
              "#0d0887"
             ],
             [
              0.1111111111111111,
              "#46039f"
             ],
             [
              0.2222222222222222,
              "#7201a8"
             ],
             [
              0.3333333333333333,
              "#9c179e"
             ],
             [
              0.4444444444444444,
              "#bd3786"
             ],
             [
              0.5555555555555556,
              "#d8576b"
             ],
             [
              0.6666666666666666,
              "#ed7953"
             ],
             [
              0.7777777777777778,
              "#fb9f3a"
             ],
             [
              0.8888888888888888,
              "#fdca26"
             ],
             [
              1,
              "#f0f921"
             ]
            ],
            "type": "heatmap"
           }
          ],
          "heatmapgl": [
           {
            "colorbar": {
             "outlinewidth": 0,
             "ticks": ""
            },
            "colorscale": [
             [
              0,
              "#0d0887"
             ],
             [
              0.1111111111111111,
              "#46039f"
             ],
             [
              0.2222222222222222,
              "#7201a8"
             ],
             [
              0.3333333333333333,
              "#9c179e"
             ],
             [
              0.4444444444444444,
              "#bd3786"
             ],
             [
              0.5555555555555556,
              "#d8576b"
             ],
             [
              0.6666666666666666,
              "#ed7953"
             ],
             [
              0.7777777777777778,
              "#fb9f3a"
             ],
             [
              0.8888888888888888,
              "#fdca26"
             ],
             [
              1,
              "#f0f921"
             ]
            ],
            "type": "heatmapgl"
           }
          ],
          "histogram": [
           {
            "marker": {
             "pattern": {
              "fillmode": "overlay",
              "size": 10,
              "solidity": 0.2
             }
            },
            "type": "histogram"
           }
          ],
          "histogram2d": [
           {
            "colorbar": {
             "outlinewidth": 0,
             "ticks": ""
            },
            "colorscale": [
             [
              0,
              "#0d0887"
             ],
             [
              0.1111111111111111,
              "#46039f"
             ],
             [
              0.2222222222222222,
              "#7201a8"
             ],
             [
              0.3333333333333333,
              "#9c179e"
             ],
             [
              0.4444444444444444,
              "#bd3786"
             ],
             [
              0.5555555555555556,
              "#d8576b"
             ],
             [
              0.6666666666666666,
              "#ed7953"
             ],
             [
              0.7777777777777778,
              "#fb9f3a"
             ],
             [
              0.8888888888888888,
              "#fdca26"
             ],
             [
              1,
              "#f0f921"
             ]
            ],
            "type": "histogram2d"
           }
          ],
          "histogram2dcontour": [
           {
            "colorbar": {
             "outlinewidth": 0,
             "ticks": ""
            },
            "colorscale": [
             [
              0,
              "#0d0887"
             ],
             [
              0.1111111111111111,
              "#46039f"
             ],
             [
              0.2222222222222222,
              "#7201a8"
             ],
             [
              0.3333333333333333,
              "#9c179e"
             ],
             [
              0.4444444444444444,
              "#bd3786"
             ],
             [
              0.5555555555555556,
              "#d8576b"
             ],
             [
              0.6666666666666666,
              "#ed7953"
             ],
             [
              0.7777777777777778,
              "#fb9f3a"
             ],
             [
              0.8888888888888888,
              "#fdca26"
             ],
             [
              1,
              "#f0f921"
             ]
            ],
            "type": "histogram2dcontour"
           }
          ],
          "mesh3d": [
           {
            "colorbar": {
             "outlinewidth": 0,
             "ticks": ""
            },
            "type": "mesh3d"
           }
          ],
          "parcoords": [
           {
            "line": {
             "colorbar": {
              "outlinewidth": 0,
              "ticks": ""
             }
            },
            "type": "parcoords"
           }
          ],
          "pie": [
           {
            "automargin": true,
            "type": "pie"
           }
          ],
          "scatter": [
           {
            "fillpattern": {
             "fillmode": "overlay",
             "size": 10,
             "solidity": 0.2
            },
            "type": "scatter"
           }
          ],
          "scatter3d": [
           {
            "line": {
             "colorbar": {
              "outlinewidth": 0,
              "ticks": ""
             }
            },
            "marker": {
             "colorbar": {
              "outlinewidth": 0,
              "ticks": ""
             }
            },
            "type": "scatter3d"
           }
          ],
          "scattercarpet": [
           {
            "marker": {
             "colorbar": {
              "outlinewidth": 0,
              "ticks": ""
             }
            },
            "type": "scattercarpet"
           }
          ],
          "scattergeo": [
           {
            "marker": {
             "colorbar": {
              "outlinewidth": 0,
              "ticks": ""
             }
            },
            "type": "scattergeo"
           }
          ],
          "scattergl": [
           {
            "marker": {
             "colorbar": {
              "outlinewidth": 0,
              "ticks": ""
             }
            },
            "type": "scattergl"
           }
          ],
          "scattermapbox": [
           {
            "marker": {
             "colorbar": {
              "outlinewidth": 0,
              "ticks": ""
             }
            },
            "type": "scattermapbox"
           }
          ],
          "scatterpolar": [
           {
            "marker": {
             "colorbar": {
              "outlinewidth": 0,
              "ticks": ""
             }
            },
            "type": "scatterpolar"
           }
          ],
          "scatterpolargl": [
           {
            "marker": {
             "colorbar": {
              "outlinewidth": 0,
              "ticks": ""
             }
            },
            "type": "scatterpolargl"
           }
          ],
          "scatterternary": [
           {
            "marker": {
             "colorbar": {
              "outlinewidth": 0,
              "ticks": ""
             }
            },
            "type": "scatterternary"
           }
          ],
          "surface": [
           {
            "colorbar": {
             "outlinewidth": 0,
             "ticks": ""
            },
            "colorscale": [
             [
              0,
              "#0d0887"
             ],
             [
              0.1111111111111111,
              "#46039f"
             ],
             [
              0.2222222222222222,
              "#7201a8"
             ],
             [
              0.3333333333333333,
              "#9c179e"
             ],
             [
              0.4444444444444444,
              "#bd3786"
             ],
             [
              0.5555555555555556,
              "#d8576b"
             ],
             [
              0.6666666666666666,
              "#ed7953"
             ],
             [
              0.7777777777777778,
              "#fb9f3a"
             ],
             [
              0.8888888888888888,
              "#fdca26"
             ],
             [
              1,
              "#f0f921"
             ]
            ],
            "type": "surface"
           }
          ],
          "table": [
           {
            "cells": {
             "fill": {
              "color": "#EBF0F8"
             },
             "line": {
              "color": "white"
             }
            },
            "header": {
             "fill": {
              "color": "#C8D4E3"
             },
             "line": {
              "color": "white"
             }
            },
            "type": "table"
           }
          ]
         },
         "layout": {
          "annotationdefaults": {
           "arrowcolor": "#2a3f5f",
           "arrowhead": 0,
           "arrowwidth": 1
          },
          "autotypenumbers": "strict",
          "coloraxis": {
           "colorbar": {
            "outlinewidth": 0,
            "ticks": ""
           }
          },
          "colorscale": {
           "diverging": [
            [
             0,
             "#8e0152"
            ],
            [
             0.1,
             "#c51b7d"
            ],
            [
             0.2,
             "#de77ae"
            ],
            [
             0.3,
             "#f1b6da"
            ],
            [
             0.4,
             "#fde0ef"
            ],
            [
             0.5,
             "#f7f7f7"
            ],
            [
             0.6,
             "#e6f5d0"
            ],
            [
             0.7,
             "#b8e186"
            ],
            [
             0.8,
             "#7fbc41"
            ],
            [
             0.9,
             "#4d9221"
            ],
            [
             1,
             "#276419"
            ]
           ],
           "sequential": [
            [
             0,
             "#0d0887"
            ],
            [
             0.1111111111111111,
             "#46039f"
            ],
            [
             0.2222222222222222,
             "#7201a8"
            ],
            [
             0.3333333333333333,
             "#9c179e"
            ],
            [
             0.4444444444444444,
             "#bd3786"
            ],
            [
             0.5555555555555556,
             "#d8576b"
            ],
            [
             0.6666666666666666,
             "#ed7953"
            ],
            [
             0.7777777777777778,
             "#fb9f3a"
            ],
            [
             0.8888888888888888,
             "#fdca26"
            ],
            [
             1,
             "#f0f921"
            ]
           ],
           "sequentialminus": [
            [
             0,
             "#0d0887"
            ],
            [
             0.1111111111111111,
             "#46039f"
            ],
            [
             0.2222222222222222,
             "#7201a8"
            ],
            [
             0.3333333333333333,
             "#9c179e"
            ],
            [
             0.4444444444444444,
             "#bd3786"
            ],
            [
             0.5555555555555556,
             "#d8576b"
            ],
            [
             0.6666666666666666,
             "#ed7953"
            ],
            [
             0.7777777777777778,
             "#fb9f3a"
            ],
            [
             0.8888888888888888,
             "#fdca26"
            ],
            [
             1,
             "#f0f921"
            ]
           ]
          },
          "colorway": [
           "#636efa",
           "#EF553B",
           "#00cc96",
           "#ab63fa",
           "#FFA15A",
           "#19d3f3",
           "#FF6692",
           "#B6E880",
           "#FF97FF",
           "#FECB52"
          ],
          "font": {
           "color": "#2a3f5f"
          },
          "geo": {
           "bgcolor": "white",
           "lakecolor": "white",
           "landcolor": "#E5ECF6",
           "showlakes": true,
           "showland": true,
           "subunitcolor": "white"
          },
          "hoverlabel": {
           "align": "left"
          },
          "hovermode": "closest",
          "mapbox": {
           "style": "light"
          },
          "paper_bgcolor": "white",
          "plot_bgcolor": "#E5ECF6",
          "polar": {
           "angularaxis": {
            "gridcolor": "white",
            "linecolor": "white",
            "ticks": ""
           },
           "bgcolor": "#E5ECF6",
           "radialaxis": {
            "gridcolor": "white",
            "linecolor": "white",
            "ticks": ""
           }
          },
          "scene": {
           "xaxis": {
            "backgroundcolor": "#E5ECF6",
            "gridcolor": "white",
            "gridwidth": 2,
            "linecolor": "white",
            "showbackground": true,
            "ticks": "",
            "zerolinecolor": "white"
           },
           "yaxis": {
            "backgroundcolor": "#E5ECF6",
            "gridcolor": "white",
            "gridwidth": 2,
            "linecolor": "white",
            "showbackground": true,
            "ticks": "",
            "zerolinecolor": "white"
           },
           "zaxis": {
            "backgroundcolor": "#E5ECF6",
            "gridcolor": "white",
            "gridwidth": 2,
            "linecolor": "white",
            "showbackground": true,
            "ticks": "",
            "zerolinecolor": "white"
           }
          },
          "shapedefaults": {
           "line": {
            "color": "#2a3f5f"
           }
          },
          "ternary": {
           "aaxis": {
            "gridcolor": "white",
            "linecolor": "white",
            "ticks": ""
           },
           "baxis": {
            "gridcolor": "white",
            "linecolor": "white",
            "ticks": ""
           },
           "bgcolor": "#E5ECF6",
           "caxis": {
            "gridcolor": "white",
            "linecolor": "white",
            "ticks": ""
           }
          },
          "title": {
           "x": 0.05
          },
          "xaxis": {
           "automargin": true,
           "gridcolor": "white",
           "linecolor": "white",
           "ticks": "",
           "title": {
            "standoff": 15
           },
           "zerolinecolor": "white",
           "zerolinewidth": 2
          },
          "yaxis": {
           "automargin": true,
           "gridcolor": "white",
           "linecolor": "white",
           "ticks": "",
           "title": {
            "standoff": 15
           },
           "zerolinecolor": "white",
           "zerolinewidth": 2
          }
         }
        },
        "xaxis": {
         "anchor": "y",
         "domain": [
          0,
          1
         ],
         "title": {
          "text": "dates"
         }
        },
        "yaxis": {
         "anchor": "x",
         "domain": [
          0,
          1
         ],
         "title": {
          "text": "equity_daily"
         }
        }
       }
      },
      "text/html": [
       "<div>                            <div id=\"3b631185-9d8a-4373-aa2c-7130bee7a0ec\" class=\"plotly-graph-div\" style=\"height:525px; width:100%;\"></div>            <script type=\"text/javascript\">                require([\"plotly\"], function(Plotly) {                    window.PLOTLYENV=window.PLOTLYENV || {};                                    if (document.getElementById(\"3b631185-9d8a-4373-aa2c-7130bee7a0ec\")) {                    Plotly.newPlot(                        \"3b631185-9d8a-4373-aa2c-7130bee7a0ec\",                        [{\"hovertemplate\":\"dates=%{x}\\u003cbr\\u003eequity_daily=%{y}\\u003cextra\\u003e\\u003c\\u002fextra\\u003e\",\"legendgroup\":\"\",\"line\":{\"color\":\"#636efa\",\"dash\":\"solid\"},\"marker\":{\"symbol\":\"circle\"},\"mode\":\"lines\",\"name\":\"\",\"orientation\":\"v\",\"showlegend\":false,\"x\":[\"2023-01-02\",\"2023-01-03\",\"2023-01-04\",\"2023-01-05\",\"2023-01-06\",\"2023-01-07\",\"2023-01-08\",\"2023-01-09\",\"2023-01-10\",\"2023-01-11\",\"2023-01-12\",\"2023-01-13\",\"2023-01-14\",\"2023-01-15\",\"2023-01-16\",\"2023-01-17\",\"2023-01-18\",\"2023-01-19\",\"2023-01-20\",\"2023-01-21\",\"2023-01-22\",\"2023-01-23\",\"2023-01-24\",\"2023-01-25\",\"2023-01-26\",\"2023-01-27\",\"2023-01-28\",\"2023-01-29\",\"2023-01-30\",\"2023-01-31\",\"2023-02-01\",\"2023-02-02\",\"2023-02-03\",\"2023-02-04\",\"2023-02-05\",\"2023-02-06\",\"2023-02-07\",\"2023-02-08\",\"2023-02-09\",\"2023-02-10\",\"2023-02-11\",\"2023-02-12\",\"2023-02-13\",\"2023-02-14\",\"2023-02-15\",\"2023-02-16\",\"2023-02-17\",\"2023-02-18\",\"2023-02-19\",\"2023-02-20\",\"2023-02-21\",\"2023-02-22\",\"2023-02-23\",\"2023-02-24\",\"2023-02-25\",\"2023-02-26\",\"2023-02-27\",\"2023-02-28\",\"2023-03-01\",\"2023-03-02\",\"2023-03-03\",\"2023-03-04\",\"2023-03-05\",\"2023-03-06\",\"2023-03-07\",\"2023-03-08\",\"2023-03-09\",\"2023-03-10\",\"2023-03-11\",\"2023-03-12\",\"2023-03-13\",\"2023-03-14\",\"2023-03-15\",\"2023-03-16\",\"2023-03-17\",\"2023-03-18\",\"2023-03-19\",\"2023-03-20\",\"2023-03-21\",\"2023-03-22\",\"2023-03-23\",\"2023-03-24\",\"2023-03-25\",\"2023-03-26\",\"2023-03-27\",\"2023-03-28\",\"2023-03-29\",\"2023-03-30\",\"2023-03-31\",\"2023-04-01\",\"2023-04-02\",\"2023-04-03\",\"2023-04-04\",\"2023-04-05\",\"2023-04-06\",\"2023-04-07\",\"2023-04-08\",\"2023-04-09\",\"2023-04-10\",\"2023-04-11\",\"2023-04-12\",\"2023-04-13\",\"2023-04-14\",\"2023-04-15\",\"2023-04-16\",\"2023-04-17\",\"2023-04-18\",\"2023-04-19\",\"2023-04-20\",\"2023-04-21\",\"2023-04-22\",\"2023-04-23\",\"2023-04-24\",\"2023-04-25\",\"2023-04-26\",\"2023-04-27\",\"2023-04-28\",\"2023-04-29\",\"2023-04-30\",\"2023-05-01\",\"2023-05-02\",\"2023-05-03\",\"2023-05-04\",\"2023-05-05\",\"2023-05-06\",\"2023-05-07\",\"2023-05-08\",\"2023-05-09\",\"2023-05-10\",\"2023-05-11\",\"2023-05-12\",\"2023-05-13\",\"2023-05-14\",\"2023-05-15\",\"2023-05-16\",\"2023-05-17\",\"2023-05-18\",\"2023-05-19\",\"2023-05-20\",\"2023-05-21\",\"2023-05-22\",\"2023-05-23\",\"2023-05-24\",\"2023-05-25\",\"2023-05-26\",\"2023-05-27\",\"2023-05-28\",\"2023-05-29\",\"2023-05-30\",\"2023-05-31\",\"2023-06-01\",\"2023-06-02\",\"2023-06-03\",\"2023-06-04\",\"2023-06-05\",\"2023-06-06\",\"2023-06-07\",\"2023-06-08\",\"2023-06-09\",\"2023-06-10\",\"2023-06-11\",\"2023-06-12\",\"2023-06-13\",\"2023-06-14\",\"2023-06-15\",\"2023-06-16\",\"2023-06-17\",\"2023-06-18\",\"2023-06-19\",\"2023-06-20\",\"2023-06-21\",\"2023-06-22\",\"2023-06-23\",\"2023-06-24\",\"2023-06-25\",\"2023-06-26\",\"2023-06-27\",\"2023-06-28\",\"2023-06-29\",\"2023-06-30\",\"2023-07-01\",\"2023-07-02\",\"2023-07-03\",\"2023-07-04\",\"2023-07-05\",\"2023-07-06\",\"2023-07-07\",\"2023-07-08\",\"2023-07-09\",\"2023-07-10\",\"2023-07-11\",\"2023-07-12\",\"2023-07-13\",\"2023-07-14\",\"2023-07-15\",\"2023-07-16\",\"2023-07-17\",\"2023-07-18\",\"2023-07-19\",\"2023-07-20\",\"2023-07-21\",\"2023-07-22\",\"2023-07-23\",\"2023-07-24\",\"2023-07-25\",\"2023-07-26\",\"2023-07-27\",\"2023-07-28\",\"2023-07-29\",\"2023-07-30\",\"2023-07-31\",\"2023-08-01\",\"2023-08-02\",\"2023-08-03\",\"2023-08-04\",\"2023-08-05\",\"2023-08-06\",\"2023-08-07\",\"2023-08-08\",\"2023-08-09\",\"2023-08-10\",\"2023-08-11\",\"2023-08-12\",\"2023-08-13\",\"2023-08-14\",\"2023-08-15\",\"2023-08-16\",\"2023-08-17\",\"2023-08-18\",\"2023-08-19\",\"2023-08-20\",\"2023-08-21\",\"2023-08-22\",\"2023-08-23\",\"2023-08-24\",\"2023-08-25\",\"2023-08-26\",\"2023-08-27\",\"2023-08-28\",\"2023-08-29\",\"2023-08-30\",\"2023-08-31\",\"2023-09-01\",\"2023-09-02\",\"2023-09-03\",\"2023-09-04\",\"2023-09-05\",\"2023-09-06\",\"2023-09-07\",\"2023-09-08\",\"2023-09-09\",\"2023-09-10\",\"2023-09-11\",\"2023-09-12\",\"2023-09-13\",\"2023-09-14\",\"2023-09-15\",\"2023-09-16\",\"2023-09-17\",\"2023-09-18\",\"2023-09-19\",\"2023-09-20\",\"2023-09-21\",\"2023-09-22\",\"2023-09-23\",\"2023-09-24\",\"2023-09-25\",\"2023-09-26\",\"2023-09-27\",\"2023-09-28\",\"2023-09-29\",\"2023-09-30\",\"2023-10-01\",\"2023-10-02\",\"2023-10-03\",\"2023-10-04\",\"2023-10-05\",\"2023-10-06\",\"2023-10-07\",\"2023-10-08\",\"2023-10-09\",\"2023-10-10\",\"2023-10-11\",\"2023-10-12\",\"2023-10-13\",\"2023-10-14\",\"2023-10-15\",\"2023-10-16\",\"2023-10-17\",\"2023-10-18\",\"2023-10-19\",\"2023-10-20\",\"2023-10-21\",\"2023-10-22\",\"2023-10-23\",\"2023-10-24\",\"2023-10-25\",\"2023-10-26\",\"2023-10-27\",\"2023-10-28\",\"2023-10-29\",\"2023-10-30\",\"2023-10-31\",\"2023-11-01\",\"2023-11-02\",\"2023-11-03\",\"2023-11-04\",\"2023-11-05\",\"2023-11-06\",\"2023-11-07\",\"2023-11-08\",\"2023-11-09\",\"2023-11-10\",\"2023-11-11\",\"2023-11-12\",\"2023-11-13\",\"2023-11-14\",\"2023-11-15\",\"2023-11-16\",\"2023-11-17\",\"2023-11-18\",\"2023-11-19\",\"2023-11-20\",\"2023-11-21\",\"2023-11-22\",\"2023-11-23\",\"2023-11-24\",\"2023-11-25\",\"2023-11-26\",\"2023-11-27\",\"2023-11-28\",\"2023-11-29\",\"2023-11-30\",\"2023-12-01\",\"2023-12-02\",\"2023-12-03\",\"2023-12-04\",\"2023-12-05\",\"2023-12-06\",\"2023-12-07\",\"2023-12-08\",\"2023-12-09\",\"2023-12-10\",\"2023-12-11\",\"2023-12-12\",\"2023-12-13\",\"2023-12-14\",\"2023-12-15\",\"2023-12-16\",\"2023-12-17\",\"2023-12-18\",\"2023-12-19\",\"2023-12-20\",\"2023-12-21\",\"2023-12-22\",\"2023-12-23\",\"2023-12-24\",\"2023-12-25\",\"2023-12-26\",\"2023-12-27\",\"2023-12-28\",\"2023-12-29\",\"2023-12-30\",\"2023-12-31\",\"2024-01-01\",\"2024-01-02\",\"2024-01-03\",\"2024-01-04\",\"2024-01-05\",\"2024-01-06\",\"2024-01-07\",\"2024-01-08\",\"2024-01-09\",\"2024-01-10\",\"2024-01-11\",\"2024-01-12\",\"2024-01-13\",\"2024-01-14\",\"2024-01-15\",\"2024-01-16\",\"2024-01-17\",\"2024-01-18\",\"2024-01-19\",\"2024-01-20\",\"2024-01-21\",\"2024-01-22\",\"2024-01-23\",\"2024-01-24\",\"2024-01-25\",\"2024-01-26\",\"2024-01-27\",\"2024-01-28\",\"2024-01-29\",\"2024-01-30\",\"2024-01-31\",\"2024-02-01\",\"2024-02-02\",\"2024-02-03\",\"2024-02-04\",\"2024-02-05\",\"2024-02-06\",\"2024-02-07\",\"2024-02-08\",\"2024-02-09\",\"2024-02-10\",\"2024-02-11\",\"2024-02-12\",\"2024-02-13\",\"2024-02-14\",\"2024-02-15\",\"2024-02-16\",\"2024-02-17\",\"2024-02-18\",\"2024-02-19\",\"2024-02-20\",\"2024-02-21\",\"2024-02-22\",\"2024-02-23\",\"2024-02-24\",\"2024-02-25\",\"2024-02-26\",\"2024-02-27\",\"2024-02-28\",\"2024-02-29\",\"2024-03-01\",\"2024-03-02\",\"2024-03-03\",\"2024-03-04\",\"2024-03-05\",\"2024-03-06\",\"2024-03-07\",\"2024-03-08\",\"2024-03-09\",\"2024-03-10\",\"2024-03-11\",\"2024-03-12\",\"2024-03-13\",\"2024-03-14\",\"2024-03-15\",\"2024-03-16\",\"2024-03-17\",\"2024-03-18\",\"2024-03-19\",\"2024-03-20\",\"2024-03-21\",\"2024-03-22\",\"2024-03-23\",\"2024-03-24\",\"2024-03-25\",\"2024-03-26\",\"2024-03-27\",\"2024-03-28\",\"2024-03-29\",\"2024-03-30\",\"2024-03-31\",\"2024-04-01\",\"2024-04-02\",\"2024-04-03\",\"2024-04-04\",\"2024-04-05\",\"2024-04-06\",\"2024-04-07\",\"2024-04-08\",\"2024-04-09\",\"2024-04-10\",\"2024-04-11\",\"2024-04-12\",\"2024-04-13\",\"2024-04-14\",\"2024-04-15\",\"2024-04-16\",\"2024-04-17\",\"2024-04-18\",\"2024-04-19\",\"2024-04-20\",\"2024-04-21\",\"2024-04-22\",\"2024-04-23\",\"2024-04-24\",\"2024-04-25\",\"2024-04-26\",\"2024-04-27\",\"2024-04-28\",\"2024-04-29\",\"2024-04-30\"],\"xaxis\":\"x\",\"y\":[-215.63697558,-173.98379667,-173.67939415,-122.60954228,-80.56032313,-80.56032313,-292.57864444,-292.57864444,-292.57864444,-499.02918056,-498.43897791,-457.69638647,-456.67062119,-415.74945249,-265.83984813,-172.97187873000001,-130.83458370000002,-130.83458370000002,-342.17476561,-300.33546486,-259.04400361,-211.90932447,-168.22973988,-126.37247899000002,-126.37247899000002,-84.03495802000002,1.1810161199999811,-171.80304469,-87.33647133000001,-87.33647133000001,-44.82484653000001,-44.82484653000001,-44.82484653000001,-44.82484653000001,-41.34386348000001,-42.56273222000001,70.13366954999998,118.56517792999998,118.56517792999998,117.69492539999997,160.82590068999997,204.56017991999997,380.42428825999997,424.93429689,200.51670054,276.37302393,276.37302393,276.37302393,276.37302393,51.416769749999986,51.416769749999986,50.805531659999986,51.22802724999998,51.22802724999998,50.00966536999998,50.00966536999998,50.321134129999976,92.82088792999997,93.13258315999997,136.09699518999997,136.09699518999997,136.09699518999997,142.80377997999997,142.49307482999998,142.39181657999998,186.06115436,9.785389649999985,129.84352887999998,174.69726040999998,-1.3870683300000053,-428.18824512000003,-345.02432349000003,-286.87451673000004,-286.87451673000004,-245.22486456000004,-245.22486456000004,-204.57297341000003,-140.80424892000002,-66.99597248000002,107.36660634999997,150.70671959999999,238.26014277,282.16095613,282.30873631,472.25273223,472.25273223,472.25273223,518.87468736,563.91295284,564.56933727,587.01986779,670.4826132000001,689.9104255200001,689.9173095000001,693.3766073,693.47583906,693.47583906,710.28170004,710.61324845,710.61324845,758.04109005,758.04109005,758.04109005,758.04109005,529.14436095,529.14436095,529.14436095,303.19034615,302.75405348,347.24966032,347.24966032,347.24966032,366.10057191,366.10057191,366.87426959,411.32623688999996,455.64843218999994,455.64843218999994,501.39281481999996,501.39281481999996,545.9485415299999,560.7905346499999,629.049595,725.7658557799999,863.02878842,628.8282585899999,209.36705691999992,253.25031776999992,897.0398119399999,522.93533437,226.65558853,228.57399701999998,227.64711124,210.94856456,339.81581792,306.44145239,623.0489781399999,711.5874891699999,664.9448207999999,991.8727658899999,1256.12134492,1402.2584546,1300.33545688,1348.7912944700001,1696.16645251,1872.24868829,2029.34619484,2080.19143898,2324.20823323,2433.1335575900002,2541.3212718000004,2429.9071108800003,2596.0828201300005,2655.3587199400004,1248.9085405100004,1470.4080544300004,1783.2482396300004,1783.9790622000005,1675.6615952600005,1496.4824966800004,1495.9950841900004,1779.7874881400003,2132.2284206800005,1616.5289082000004,1666.5855761200005,2126.9367500500007,2045.1510961100007,2096.8006932600006,1885.4213719700006,1784.3413343000007,1723.2378115700008,2417.076719910001,2772.592399400001,3007.617293790001,3108.925078860001,3283.271173340001,3396.368719860001,2531.588858270001,2659.715998230001,1731.207595050001,1832.0096118200008,2175.2149117100007,1819.3702424500007,1991.1774476500007,2127.6300638600005,2172.7922214700006,2223.3906831800005,2275.8045688100005,2453.2681584500006,2515.1424375200004,2522.7370006900005,2623.1489700000006,2079.1523823100006,2440.1213172300004,2493.8482729800003,2618.7346773000004,2998.0060258700005,3102.1659600000003,3100.10669193,3167.4286094,3223.57674191,3338.1885034999996,3507.9749470599995,3656.4640463799997,3843.1592347499995,4081.0768586699996,3836.6746714999995,3836.9610424199996,3846.1222767599997,3965.8009715499998,3988.4737214999996,4117.8050097899995,3873.3393406299997,3585.2274268999995,3292.2416793399993,3348.9025548999994,3372.9009766899994,3142.1515896499996,3236.8604300199995,3011.0952303899994,3011.0952303899994,3091.6919261099993,3092.0940134699995,2812.0024767699997,2923.8078817099995,2533.4039932599994,2316.7430129999993,3463.1625608799995,3185.9521599999994,3075.9433771499994,3224.539548569999,3458.9438469299994,3832.7393251099993,3832.1252983199993,3705.9416562299994,3897.5240591699994,4184.173349469999,4222.1128663399995,4281.95862317,3881.0340298999995,3890.6188585699997,4009.74407464,3770.6703270599996,3829.7189576799997,3888.8716928399995,4008.7058105599995,4216.8430632399995,4035.6203723699996,4075.7756476199997,4093.72519079,4094.43586118,3487.83624321,3303.0092548499997,3632.56019759,3872.36489678,3964.22956727,3725.6495449400004,3726.0727856300005,3489.9106543900007,3663.2902254300006,3722.228507810001,3861.7380281800006,3938.9833420700006,3402.0855476500005,3490.1559806600008,3663.767621180001,4018.2000006200005,4046.8900972200004,4167.355249220001,4229.439335960001,3675.819566690001,3734.461472960001,3196.932136050001,3025.995792130001,2739.790566010001,2758.505345230001,2968.171303530001,3023.778819560001,3079.220169090001,3079.220169090001,2567.767800920001,2593.671563170001,2686.283062090001,2740.329697970001,2738.3301554300006,2765.4937428200005,2871.7641522500007,3331.1726026300007,3331.1726026300007,3367.140500740001,3451.2941313700007,3511.1107496700006,2988.4770959200005,3147.6281588100005,2042.3662832700006,2178.172727750001,1820.5429940000008,2386.2667481900007,2490.139769430001,2594.867331470001,2633.760273730001,2908.571958600001,3013.373878240001,3220.0188103600008,3057.000763870001,3113.7695334200007,2887.6019787200007,3053.4442879900007,3295.0055931300008,3678.0095971400006,3735.8755875500005,2587.7590515800002,2820.40074124,3072.40962438,3347.00127102,4107.43008849,4538.10279413,4709.70442636,5049.89575979,5243.585037209999,5243.585037209999,5503.99103986,5910.810390879999,6299.06549981,6437.84031307,6158.84264862,6161.65307409,5988.15171065,6057.67319307,5778.58217842,5882.2970706999995,6132.04104595,6404.34977017,6504.17613078,7049.62289382,7444.069042900001,8020.650722370001,8093.892357810001,7784.882953090001,7963.007442910001,8138.434590510002,8898.773847620001,9275.052368300001,8981.527448320001,9115.363957470001,8381.802054360001,8553.710684130001,8633.268819230001,8793.77461186,9026.04193431,8206.99706047,8482.87773393,8722.739677759999,9086.105589849998,9130.664794729999,9403.988607509998,9224.263366059999,8932.214156589998,9581.540582769998,9238.319614109998,9656.530144669998,9819.603294199998,9819.603294199998,10157.886370449998,10242.562362789999,10036.452682629999,8962.258208019999,9313.132488919999,9337.203760449998,9050.745860689998,9132.433841259997,8351.586443629998,8673.159795719997,9243.380019479997,9663.693797089996,9788.593018979996,9968.715628729997,10054.341467719996,10054.376766479996,10313.080767699996,10755.006967199995,10041.876942129995,10796.663472729995,10796.029874679994,10885.209894389995,10808.364880089994,11000.376798719994,11180.206719349993,11180.206719349993,10717.842048209994,10721.137689859994,10832.459327509994,10930.193589749993,10496.032381459994,10852.560650079995,10983.279192529995,11213.075269009994,11355.145999289995,11384.556218359994,10852.826777579994,10941.590180899993,10942.241917539994,11222.866046809993,10778.084191359992,10905.568393769992,11157.284978979993,10884.037476009993,11011.055071819994,10574.330320089994,10892.293735839994,10918.617801009994,10723.884702309993,10723.586424659994,11112.883005199994,10951.761167559995,11279.562574539994,11516.809391099994,11052.790510269993,10683.333610499993,10772.023738279993,11471.960284709994,10921.897010679993,10536.700901549993,10624.761645899993,10440.831556239993,10221.233744149993,9987.236369569993,9410.960907269993,9438.416284219993,9860.641824849992,11270.291574779993,11150.259529699992,11876.950393379992,11967.618440639992,11204.105457669992,11859.559824759992,11953.293574109992,11571.986461639992,11189.991478919992,10641.289105099992,10641.289105099992,10832.958146749992,11303.187264019993,12288.348407919993,12846.349819479994,13160.228349199993,13458.490946009993,13458.490946009993,13267.842629429993,13674.865984479993,13164.949809869993,13910.126376009994,13524.276499469994,14067.983512089993,13660.071194799993,13263.483662429993,13260.292514129993,13149.851439939994,13896.721250319993,13481.489131149994,13481.489131149994,13619.200732469993,13821.758869059993,13510.404967289993,13179.975083519992,13509.909211059992,11529.315087369992,8447.406184649994,8686.214487919993,8926.825232019994,9768.760203149994,10139.123107239993,10310.440773609993,10999.369144809993,10722.141555469992,11176.440229819993,11267.244560389992,10808.841120229992,11377.582411239991,11588.378927649992,11677.969623729992,11900.796209429993,12247.389346819993,12246.720758869993,11081.837261559993],\"yaxis\":\"y\",\"type\":\"scatter\"}],                        {\"template\":{\"data\":{\"histogram2dcontour\":[{\"type\":\"histogram2dcontour\",\"colorbar\":{\"outlinewidth\":0,\"ticks\":\"\"},\"colorscale\":[[0.0,\"#0d0887\"],[0.1111111111111111,\"#46039f\"],[0.2222222222222222,\"#7201a8\"],[0.3333333333333333,\"#9c179e\"],[0.4444444444444444,\"#bd3786\"],[0.5555555555555556,\"#d8576b\"],[0.6666666666666666,\"#ed7953\"],[0.7777777777777778,\"#fb9f3a\"],[0.8888888888888888,\"#fdca26\"],[1.0,\"#f0f921\"]]}],\"choropleth\":[{\"type\":\"choropleth\",\"colorbar\":{\"outlinewidth\":0,\"ticks\":\"\"}}],\"histogram2d\":[{\"type\":\"histogram2d\",\"colorbar\":{\"outlinewidth\":0,\"ticks\":\"\"},\"colorscale\":[[0.0,\"#0d0887\"],[0.1111111111111111,\"#46039f\"],[0.2222222222222222,\"#7201a8\"],[0.3333333333333333,\"#9c179e\"],[0.4444444444444444,\"#bd3786\"],[0.5555555555555556,\"#d8576b\"],[0.6666666666666666,\"#ed7953\"],[0.7777777777777778,\"#fb9f3a\"],[0.8888888888888888,\"#fdca26\"],[1.0,\"#f0f921\"]]}],\"heatmap\":[{\"type\":\"heatmap\",\"colorbar\":{\"outlinewidth\":0,\"ticks\":\"\"},\"colorscale\":[[0.0,\"#0d0887\"],[0.1111111111111111,\"#46039f\"],[0.2222222222222222,\"#7201a8\"],[0.3333333333333333,\"#9c179e\"],[0.4444444444444444,\"#bd3786\"],[0.5555555555555556,\"#d8576b\"],[0.6666666666666666,\"#ed7953\"],[0.7777777777777778,\"#fb9f3a\"],[0.8888888888888888,\"#fdca26\"],[1.0,\"#f0f921\"]]}],\"heatmapgl\":[{\"type\":\"heatmapgl\",\"colorbar\":{\"outlinewidth\":0,\"ticks\":\"\"},\"colorscale\":[[0.0,\"#0d0887\"],[0.1111111111111111,\"#46039f\"],[0.2222222222222222,\"#7201a8\"],[0.3333333333333333,\"#9c179e\"],[0.4444444444444444,\"#bd3786\"],[0.5555555555555556,\"#d8576b\"],[0.6666666666666666,\"#ed7953\"],[0.7777777777777778,\"#fb9f3a\"],[0.8888888888888888,\"#fdca26\"],[1.0,\"#f0f921\"]]}],\"contourcarpet\":[{\"type\":\"contourcarpet\",\"colorbar\":{\"outlinewidth\":0,\"ticks\":\"\"}}],\"contour\":[{\"type\":\"contour\",\"colorbar\":{\"outlinewidth\":0,\"ticks\":\"\"},\"colorscale\":[[0.0,\"#0d0887\"],[0.1111111111111111,\"#46039f\"],[0.2222222222222222,\"#7201a8\"],[0.3333333333333333,\"#9c179e\"],[0.4444444444444444,\"#bd3786\"],[0.5555555555555556,\"#d8576b\"],[0.6666666666666666,\"#ed7953\"],[0.7777777777777778,\"#fb9f3a\"],[0.8888888888888888,\"#fdca26\"],[1.0,\"#f0f921\"]]}],\"surface\":[{\"type\":\"surface\",\"colorbar\":{\"outlinewidth\":0,\"ticks\":\"\"},\"colorscale\":[[0.0,\"#0d0887\"],[0.1111111111111111,\"#46039f\"],[0.2222222222222222,\"#7201a8\"],[0.3333333333333333,\"#9c179e\"],[0.4444444444444444,\"#bd3786\"],[0.5555555555555556,\"#d8576b\"],[0.6666666666666666,\"#ed7953\"],[0.7777777777777778,\"#fb9f3a\"],[0.8888888888888888,\"#fdca26\"],[1.0,\"#f0f921\"]]}],\"mesh3d\":[{\"type\":\"mesh3d\",\"colorbar\":{\"outlinewidth\":0,\"ticks\":\"\"}}],\"scatter\":[{\"fillpattern\":{\"fillmode\":\"overlay\",\"size\":10,\"solidity\":0.2},\"type\":\"scatter\"}],\"parcoords\":[{\"type\":\"parcoords\",\"line\":{\"colorbar\":{\"outlinewidth\":0,\"ticks\":\"\"}}}],\"scatterpolargl\":[{\"type\":\"scatterpolargl\",\"marker\":{\"colorbar\":{\"outlinewidth\":0,\"ticks\":\"\"}}}],\"bar\":[{\"error_x\":{\"color\":\"#2a3f5f\"},\"error_y\":{\"color\":\"#2a3f5f\"},\"marker\":{\"line\":{\"color\":\"#E5ECF6\",\"width\":0.5},\"pattern\":{\"fillmode\":\"overlay\",\"size\":10,\"solidity\":0.2}},\"type\":\"bar\"}],\"scattergeo\":[{\"type\":\"scattergeo\",\"marker\":{\"colorbar\":{\"outlinewidth\":0,\"ticks\":\"\"}}}],\"scatterpolar\":[{\"type\":\"scatterpolar\",\"marker\":{\"colorbar\":{\"outlinewidth\":0,\"ticks\":\"\"}}}],\"histogram\":[{\"marker\":{\"pattern\":{\"fillmode\":\"overlay\",\"size\":10,\"solidity\":0.2}},\"type\":\"histogram\"}],\"scattergl\":[{\"type\":\"scattergl\",\"marker\":{\"colorbar\":{\"outlinewidth\":0,\"ticks\":\"\"}}}],\"scatter3d\":[{\"type\":\"scatter3d\",\"line\":{\"colorbar\":{\"outlinewidth\":0,\"ticks\":\"\"}},\"marker\":{\"colorbar\":{\"outlinewidth\":0,\"ticks\":\"\"}}}],\"scattermapbox\":[{\"type\":\"scattermapbox\",\"marker\":{\"colorbar\":{\"outlinewidth\":0,\"ticks\":\"\"}}}],\"scatterternary\":[{\"type\":\"scatterternary\",\"marker\":{\"colorbar\":{\"outlinewidth\":0,\"ticks\":\"\"}}}],\"scattercarpet\":[{\"type\":\"scattercarpet\",\"marker\":{\"colorbar\":{\"outlinewidth\":0,\"ticks\":\"\"}}}],\"carpet\":[{\"aaxis\":{\"endlinecolor\":\"#2a3f5f\",\"gridcolor\":\"white\",\"linecolor\":\"white\",\"minorgridcolor\":\"white\",\"startlinecolor\":\"#2a3f5f\"},\"baxis\":{\"endlinecolor\":\"#2a3f5f\",\"gridcolor\":\"white\",\"linecolor\":\"white\",\"minorgridcolor\":\"white\",\"startlinecolor\":\"#2a3f5f\"},\"type\":\"carpet\"}],\"table\":[{\"cells\":{\"fill\":{\"color\":\"#EBF0F8\"},\"line\":{\"color\":\"white\"}},\"header\":{\"fill\":{\"color\":\"#C8D4E3\"},\"line\":{\"color\":\"white\"}},\"type\":\"table\"}],\"barpolar\":[{\"marker\":{\"line\":{\"color\":\"#E5ECF6\",\"width\":0.5},\"pattern\":{\"fillmode\":\"overlay\",\"size\":10,\"solidity\":0.2}},\"type\":\"barpolar\"}],\"pie\":[{\"automargin\":true,\"type\":\"pie\"}]},\"layout\":{\"autotypenumbers\":\"strict\",\"colorway\":[\"#636efa\",\"#EF553B\",\"#00cc96\",\"#ab63fa\",\"#FFA15A\",\"#19d3f3\",\"#FF6692\",\"#B6E880\",\"#FF97FF\",\"#FECB52\"],\"font\":{\"color\":\"#2a3f5f\"},\"hovermode\":\"closest\",\"hoverlabel\":{\"align\":\"left\"},\"paper_bgcolor\":\"white\",\"plot_bgcolor\":\"#E5ECF6\",\"polar\":{\"bgcolor\":\"#E5ECF6\",\"angularaxis\":{\"gridcolor\":\"white\",\"linecolor\":\"white\",\"ticks\":\"\"},\"radialaxis\":{\"gridcolor\":\"white\",\"linecolor\":\"white\",\"ticks\":\"\"}},\"ternary\":{\"bgcolor\":\"#E5ECF6\",\"aaxis\":{\"gridcolor\":\"white\",\"linecolor\":\"white\",\"ticks\":\"\"},\"baxis\":{\"gridcolor\":\"white\",\"linecolor\":\"white\",\"ticks\":\"\"},\"caxis\":{\"gridcolor\":\"white\",\"linecolor\":\"white\",\"ticks\":\"\"}},\"coloraxis\":{\"colorbar\":{\"outlinewidth\":0,\"ticks\":\"\"}},\"colorscale\":{\"sequential\":[[0.0,\"#0d0887\"],[0.1111111111111111,\"#46039f\"],[0.2222222222222222,\"#7201a8\"],[0.3333333333333333,\"#9c179e\"],[0.4444444444444444,\"#bd3786\"],[0.5555555555555556,\"#d8576b\"],[0.6666666666666666,\"#ed7953\"],[0.7777777777777778,\"#fb9f3a\"],[0.8888888888888888,\"#fdca26\"],[1.0,\"#f0f921\"]],\"sequentialminus\":[[0.0,\"#0d0887\"],[0.1111111111111111,\"#46039f\"],[0.2222222222222222,\"#7201a8\"],[0.3333333333333333,\"#9c179e\"],[0.4444444444444444,\"#bd3786\"],[0.5555555555555556,\"#d8576b\"],[0.6666666666666666,\"#ed7953\"],[0.7777777777777778,\"#fb9f3a\"],[0.8888888888888888,\"#fdca26\"],[1.0,\"#f0f921\"]],\"diverging\":[[0,\"#8e0152\"],[0.1,\"#c51b7d\"],[0.2,\"#de77ae\"],[0.3,\"#f1b6da\"],[0.4,\"#fde0ef\"],[0.5,\"#f7f7f7\"],[0.6,\"#e6f5d0\"],[0.7,\"#b8e186\"],[0.8,\"#7fbc41\"],[0.9,\"#4d9221\"],[1,\"#276419\"]]},\"xaxis\":{\"gridcolor\":\"white\",\"linecolor\":\"white\",\"ticks\":\"\",\"title\":{\"standoff\":15},\"zerolinecolor\":\"white\",\"automargin\":true,\"zerolinewidth\":2},\"yaxis\":{\"gridcolor\":\"white\",\"linecolor\":\"white\",\"ticks\":\"\",\"title\":{\"standoff\":15},\"zerolinecolor\":\"white\",\"automargin\":true,\"zerolinewidth\":2},\"scene\":{\"xaxis\":{\"backgroundcolor\":\"#E5ECF6\",\"gridcolor\":\"white\",\"linecolor\":\"white\",\"showbackground\":true,\"ticks\":\"\",\"zerolinecolor\":\"white\",\"gridwidth\":2},\"yaxis\":{\"backgroundcolor\":\"#E5ECF6\",\"gridcolor\":\"white\",\"linecolor\":\"white\",\"showbackground\":true,\"ticks\":\"\",\"zerolinecolor\":\"white\",\"gridwidth\":2},\"zaxis\":{\"backgroundcolor\":\"#E5ECF6\",\"gridcolor\":\"white\",\"linecolor\":\"white\",\"showbackground\":true,\"ticks\":\"\",\"zerolinecolor\":\"white\",\"gridwidth\":2}},\"shapedefaults\":{\"line\":{\"color\":\"#2a3f5f\"}},\"annotationdefaults\":{\"arrowcolor\":\"#2a3f5f\",\"arrowhead\":0,\"arrowwidth\":1},\"geo\":{\"bgcolor\":\"white\",\"landcolor\":\"#E5ECF6\",\"subunitcolor\":\"white\",\"showland\":true,\"showlakes\":true,\"lakecolor\":\"white\"},\"title\":{\"x\":0.05},\"mapbox\":{\"style\":\"light\"}}},\"xaxis\":{\"anchor\":\"y\",\"domain\":[0.0,1.0],\"title\":{\"text\":\"dates\"}},\"yaxis\":{\"anchor\":\"x\",\"domain\":[0.0,1.0],\"title\":{\"text\":\"equity_daily\"}},\"legend\":{\"tracegroupgap\":0},\"margin\":{\"t\":60}},                        {\"responsive\": true}                    ).then(function(){\n",
       "                            \n",
       "var gd = document.getElementById('3b631185-9d8a-4373-aa2c-7130bee7a0ec');\n",
       "var x = new MutationObserver(function (mutations, observer) {{\n",
       "        var display = window.getComputedStyle(gd).display;\n",
       "        if (!display || display === 'none') {{\n",
       "            console.log([gd, 'removed!']);\n",
       "            Plotly.purge(gd);\n",
       "            observer.disconnect();\n",
       "        }}\n",
       "}});\n",
       "\n",
       "// Listen for the removal of the full notebook cells\n",
       "var notebookContainer = gd.closest('#notebook-container');\n",
       "if (notebookContainer) {{\n",
       "    x.observe(notebookContainer, {childList: true});\n",
       "}}\n",
       "\n",
       "// Listen for the clearing of the current output cell\n",
       "var outputEl = gd.closest('.output');\n",
       "if (outputEl) {{\n",
       "    x.observe(outputEl, {childList: true});\n",
       "}}\n",
       "\n",
       "                        })                };                });            </script>        </div>"
      ]
     },
     "metadata": {},
     "output_type": "display_data"
    }
   ],
   "source": [
    "# Plotting equity line (starting with 0 on day 1 and adding daily profit for each backtested day)\n",
    "\n",
    "from freqtrade.configuration import Configuration\n",
    "from freqtrade.data.btanalysis import load_backtest_stats\n",
    "import plotly.express as px\n",
    "import pandas as pd\n",
    "\n",
    "strategy = 'MeanReversionStrategy'\n",
    "# config = Configuration.from_files([\"user_data/config.json\"])\n",
    "# backtest_dir = config[\"user_data_dir\"] / \"backtest_results\"\n",
    "\n",
    "stats = load_backtest_stats(backtest_dir)\n",
    "strategy_stats = stats['strategy'][strategy]\n",
    "\n",
    "df = pd.DataFrame(columns=['dates','equity'], data=strategy_stats['daily_profit'])\n",
    "df['equity_daily'] = df['equity'].cumsum()\n",
    "\n",
    "fig = px.line(df, x=\"dates\", y=\"equity_daily\")\n",
    "fig.show()\n"
   ]
  },
  {
   "cell_type": "markdown",
   "metadata": {},
   "source": [
    "### Load live trading results into a pandas dataframe\n",
    "\n",
    "In case you did already some trading and want to analyze your performance"
   ]
  },
  {
   "cell_type": "code",
   "execution_count": null,
   "metadata": {},
   "outputs": [],
   "source": [
    "from freqtrade.data.btanalysis import load_trades_from_db\n",
    "\n",
    "# Fetch trades from database\n",
    "trades = load_trades_from_db(\"sqlite:///tradesv3.sqlite\")\n",
    "\n",
    "# Display results\n",
    "trades.groupby(\"pair\")[\"exit_reason\"].value_counts()"
   ]
  },
  {
   "cell_type": "markdown",
   "metadata": {},
   "source": [
    "## Analyze the loaded trades for trade parallelism\n",
    "This can be useful to find the best `max_open_trades` parameter, when used with backtesting in conjunction with `--disable-max-market-positions`.\n",
    "\n",
    "`analyze_trade_parallelism()` returns a timeseries dataframe with an \"open_trades\" column, specifying the number of open trades for each candle."
   ]
  },
  {
   "cell_type": "code",
   "execution_count": null,
   "metadata": {},
   "outputs": [],
   "source": [
    "from freqtrade.data.btanalysis import analyze_trade_parallelism\n",
    "\n",
    "# Analyze the above\n",
    "parallel_trades = analyze_trade_parallelism(trades, '5m')\n",
    "\n",
    "parallel_trades.plot()"
   ]
  },
  {
   "cell_type": "markdown",
   "metadata": {},
   "source": [
    "## Plot results\n",
    "\n",
    "Freqtrade offers interactive plotting capabilities based on plotly."
   ]
  },
  {
   "cell_type": "code",
   "execution_count": null,
   "metadata": {},
   "outputs": [],
   "source": [
    "from freqtrade.plot.plotting import  generate_candlestick_graph\n",
    "# Limit graph period to keep plotly quick and reactive\n",
    "\n",
    "# Filter trades to one pair\n",
    "trades_red = trades.loc[trades['pair'] == pair]\n",
    "\n",
    "data_red = data['2019-06-01':'2019-06-10']\n",
    "# Generate candlestick graph\n",
    "graph = generate_candlestick_graph(pair=pair,\n",
    "                                   data=data_red,\n",
    "                                   trades=trades_red,\n",
    "                                   indicators1=['sma20', 'ema50', 'ema55'],\n",
    "                                   indicators2=['rsi', 'macd', 'macdsignal', 'macdhist']\n",
    "                                  )\n",
    "\n",
    "\n"
   ]
  },
  {
   "cell_type": "code",
   "execution_count": null,
   "metadata": {},
   "outputs": [],
   "source": [
    "# Show graph inline\n",
    "# graph.show()\n",
    "\n",
    "# Render graph in a separate window\n",
    "graph.show(renderer=\"browser\")\n"
   ]
  },
  {
   "cell_type": "markdown",
   "metadata": {},
   "source": [
    "## Plot average profit per trade as distribution graph"
   ]
  },
  {
   "cell_type": "code",
   "execution_count": null,
   "metadata": {},
   "outputs": [],
   "source": [
    "import plotly.figure_factory as ff\n",
    "\n",
    "hist_data = [trades.profit_ratio]\n",
    "group_labels = ['profit_ratio']  # name of the dataset\n",
    "\n",
    "fig = ff.create_distplot(hist_data, group_labels, bin_size=0.01)\n",
    "fig.show()\n"
   ]
  },
  {
   "cell_type": "markdown",
   "metadata": {},
   "source": [
    "Feel free to submit an issue or Pull Request enhancing this document if you would like to share ideas on how to best analyze the data."
   ]
  }
 ],
 "metadata": {
  "file_extension": ".py",
  "kernelspec": {
   "display_name": "Python 3 (ipykernel)",
   "language": "python",
   "name": "python3"
  },
  "mimetype": "text/x-python",
  "name": "python",
  "npconvert_exporter": "python",
  "pygments_lexer": "ipython3",
  "toc": {
   "base_numbering": 1,
   "nav_menu": {},
   "number_sections": true,
   "sideBar": true,
   "skip_h1_title": false,
   "title_cell": "Table of Contents",
   "title_sidebar": "Contents",
   "toc_cell": false,
   "toc_position": {},
   "toc_section_display": true,
   "toc_window_display": false
  },
  "varInspector": {
   "cols": {
    "lenName": 16,
    "lenType": 16,
    "lenVar": 40
   },
   "kernels_config": {
    "python": {
     "delete_cmd_postfix": "",
     "delete_cmd_prefix": "del ",
     "library": "var_list.py",
     "varRefreshCmd": "print(var_dic_list())"
    },
    "r": {
     "delete_cmd_postfix": ") ",
     "delete_cmd_prefix": "rm(",
     "library": "var_list.r",
     "varRefreshCmd": "cat(var_dic_list()) "
    }
   },
   "types_to_exclude": [
    "module",
    "function",
    "builtin_function_or_method",
    "instance",
    "_Feature"
   ],
   "window_display": false
  },
  "version": 3,
  "vscode": {
   "interpreter": {
    "hash": "675f32a300d6d26767470181ad0b11dd4676bcce7ed1dd2ffe2fbc370c95fc7c"
   }
  }
 },
 "nbformat": 4,
 "nbformat_minor": 4
}
