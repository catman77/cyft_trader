{
 "cells": [
  {
   "cell_type": "markdown",
   "metadata": {},
   "source": [
    "# Feature Engineering\n",
    "Transform data into factors"
   ]
  },
  {
   "cell_type": "markdown",
   "metadata": {},
   "source": [
    "1. Load the data downloaded from freqtrade as usual. "
   ]
  },
  {
   "cell_type": "code",
   "execution_count": 1,
   "metadata": {},
   "outputs": [
    {
     "name": "stdout",
     "output_type": "stream",
     "text": [
      "/freqtrade\n"
     ]
    }
   ],
   "source": [
    "import os\n",
    "from pathlib import Path\n",
    "\n",
    "# Change directory\n",
    "# Modify this cell to insure that the output shows the correct path.\n",
    "# Define all paths relative to the project root shown in the cell output\n",
    "project_root = \"\"\n",
    "i=0\n",
    "try:\n",
    "    os.chdir(project_root)\n",
    "    assert Path('LICENSE').is_file()\n",
    "except:\n",
    "    while i<4 and (not Path('LICENSE').is_file()):\n",
    "        os.chdir(Path(Path.cwd(), '../'))\n",
    "        i+=1\n",
    "    project_root = Path.cwd()\n",
    "print(Path.cwd())"
   ]
  },
  {
   "cell_type": "code",
   "execution_count": 3,
   "metadata": {},
   "outputs": [
    {
     "name": "stdout",
     "output_type": "stream",
     "text": [
      "/freqtrade/user_data/data/binance\n"
     ]
    }
   ],
   "source": [
    "from freqtrade.configuration import Configuration\n",
    "\n",
    "# Customize these according to your needs.\n",
    "\n",
    "# Initialize empty configuration object\n",
    "# config = Configuration.from_files([])\n",
    "# Optionally (recommended), use existing configuration file\n",
    "config = Configuration.from_files([\"user_data/config.json\"])\n",
    "\n",
    "# Define some constants\n",
    "config[\"timeframe\"] = \"15m\"\n",
    "# Name of the strategy class\n",
    "config[\"strategy\"] = \"MeanReversionStrategy\"\n",
    "# Location of the data\n",
    "data_location = config[\"datadir\"]\n",
    "# Pair to analyze - Only use one pair here\n",
    "pair = \"SUI/USDT:USDT\"\n",
    "print(data_location)"
   ]
  },
  {
   "cell_type": "code",
   "execution_count": 4,
   "metadata": {},
   "outputs": [
    {
     "name": "stdout",
     "output_type": "stream",
     "text": [
      "Loaded 36191 rows of data for SUI/USDT:USDT from /freqtrade/user_data/data/binance\n"
     ]
    },
    {
     "data": {
      "text/html": [
       "<div>\n",
       "<style scoped>\n",
       "    .dataframe tbody tr th:only-of-type {\n",
       "        vertical-align: middle;\n",
       "    }\n",
       "\n",
       "    .dataframe tbody tr th {\n",
       "        vertical-align: top;\n",
       "    }\n",
       "\n",
       "    .dataframe thead th {\n",
       "        text-align: right;\n",
       "    }\n",
       "</style>\n",
       "<table border=\"1\" class=\"dataframe\">\n",
       "  <thead>\n",
       "    <tr style=\"text-align: right;\">\n",
       "      <th></th>\n",
       "      <th>date</th>\n",
       "      <th>open</th>\n",
       "      <th>high</th>\n",
       "      <th>low</th>\n",
       "      <th>close</th>\n",
       "      <th>volume</th>\n",
       "    </tr>\n",
       "  </thead>\n",
       "  <tbody>\n",
       "    <tr>\n",
       "      <th>0</th>\n",
       "      <td>2023-05-03 16:00:00+00:00</td>\n",
       "      <td>1.4030</td>\n",
       "      <td>1.4030</td>\n",
       "      <td>1.2652</td>\n",
       "      <td>1.3338</td>\n",
       "      <td>11474534.0</td>\n",
       "    </tr>\n",
       "    <tr>\n",
       "      <th>1</th>\n",
       "      <td>2023-05-03 16:15:00+00:00</td>\n",
       "      <td>1.3339</td>\n",
       "      <td>1.3863</td>\n",
       "      <td>1.3327</td>\n",
       "      <td>1.3716</td>\n",
       "      <td>16090260.4</td>\n",
       "    </tr>\n",
       "    <tr>\n",
       "      <th>2</th>\n",
       "      <td>2023-05-03 16:30:00+00:00</td>\n",
       "      <td>1.3717</td>\n",
       "      <td>1.3957</td>\n",
       "      <td>1.3547</td>\n",
       "      <td>1.3857</td>\n",
       "      <td>13192974.2</td>\n",
       "    </tr>\n",
       "    <tr>\n",
       "      <th>3</th>\n",
       "      <td>2023-05-03 16:45:00+00:00</td>\n",
       "      <td>1.3866</td>\n",
       "      <td>1.3924</td>\n",
       "      <td>1.3652</td>\n",
       "      <td>1.3733</td>\n",
       "      <td>11951258.0</td>\n",
       "    </tr>\n",
       "    <tr>\n",
       "      <th>4</th>\n",
       "      <td>2023-05-03 17:00:00+00:00</td>\n",
       "      <td>1.3731</td>\n",
       "      <td>1.3756</td>\n",
       "      <td>1.3405</td>\n",
       "      <td>1.3574</td>\n",
       "      <td>12698235.4</td>\n",
       "    </tr>\n",
       "  </tbody>\n",
       "</table>\n",
       "</div>"
      ],
      "text/plain": [
       "                       date    open    high     low   close      volume\n",
       "0 2023-05-03 16:00:00+00:00  1.4030  1.4030  1.2652  1.3338  11474534.0\n",
       "1 2023-05-03 16:15:00+00:00  1.3339  1.3863  1.3327  1.3716  16090260.4\n",
       "2 2023-05-03 16:30:00+00:00  1.3717  1.3957  1.3547  1.3857  13192974.2\n",
       "3 2023-05-03 16:45:00+00:00  1.3866  1.3924  1.3652  1.3733  11951258.0\n",
       "4 2023-05-03 17:00:00+00:00  1.3731  1.3756  1.3405  1.3574  12698235.4"
      ]
     },
     "execution_count": 4,
     "metadata": {},
     "output_type": "execute_result"
    }
   ],
   "source": [
    "# Load data using values set above\n",
    "from freqtrade.data.history import load_pair_history\n",
    "from freqtrade.enums import CandleType\n",
    "\n",
    "candles = load_pair_history(datadir=data_location,\n",
    "                            timeframe=config[\"timeframe\"],\n",
    "                            pair=pair,\n",
    "                            data_format = \"feather\",  # Make sure to update this to your data\n",
    "                            candle_type=CandleType.FUTURES,\n",
    "                            )\n",
    "\n",
    "# Confirm success\n",
    "print(f\"Loaded {len(candles)} rows of data for {pair} from {data_location}\")\n",
    "candles.head()"
   ]
  },
  {
   "cell_type": "code",
   "execution_count": 5,
   "metadata": {},
   "outputs": [],
   "source": [
    "import warnings\n",
    "warnings.filterwarnings('ignore')"
   ]
  },
  {
   "cell_type": "code",
   "execution_count": 7,
   "metadata": {},
   "outputs": [],
   "source": [
    "%matplotlib inline\n",
    "\n",
    "from datetime import datetime\n",
    "import pandas as pd\n",
    "# import pandas_datareader.data as web\n",
    "\n",
    "from statsmodels.regression.rolling import RollingOLS\n",
    "import statsmodels.api as sm\n",
    "\n",
    "import matplotlib.pyplot as plt\n",
    "import seaborn as sns"
   ]
  },
  {
   "cell_type": "code",
   "execution_count": 8,
   "metadata": {},
   "outputs": [],
   "source": [
    "sns.set_style('whitegrid')\n",
    "idx = pd.IndexSlice"
   ]
  },
  {
   "cell_type": "code",
   "execution_count": 16,
   "metadata": {},
   "outputs": [
    {
     "name": "stdout",
     "output_type": "stream",
     "text": [
      "<class 'pandas.core.frame.DataFrame'>\n",
      "Index: 36175 entries, 16 to 36190\n",
      "Data columns (total 6 columns):\n",
      " #   Column     Non-Null Count  Dtype  \n",
      "---  ------     --------------  -----  \n",
      " 0   return_1   36175 non-null  float64\n",
      " 1   return_2   36175 non-null  float64\n",
      " 2   return_4   36175 non-null  float64\n",
      " 3   return_8   36175 non-null  float64\n",
      " 4   return_12  36175 non-null  float64\n",
      " 5   return_16  36175 non-null  float64\n",
      "dtypes: float64(6)\n",
      "memory usage: 1.9 MB\n",
      "None\n"
     ]
    }
   ],
   "source": [
    "outlier_cutoff = 0.01\n",
    "data = candles.copy() # deep copy of candles\n",
    "lags = [1, 2, 4, 8, 12, 16]\n",
    "df = pd.DataFrame()\n",
    "\n",
    "for lags in lags:\n",
    "    df[f'return_{lags}'] = (data['close'].pct_change(lags)\n",
    "                                        .pipe(lambda x: x.clip(lower=x.quantile(outlier_cutoff),\n",
    "                                                               upper=x.quantile(1-outlier_cutoff)))\n",
    "                                        .add(1)\n",
    "                                        .pow(1/lags)\n",
    "                                        .sub(1)\n",
    "                                        )       \n",
    "\n",
    "\n",
    "df = df.dropna()\n",
    "print(df.info())"
   ]
  },
  {
   "cell_type": "code",
   "execution_count": 17,
   "metadata": {},
   "outputs": [
    {
     "data": {
      "text/html": [
       "<div>\n",
       "<style scoped>\n",
       "    .dataframe tbody tr th:only-of-type {\n",
       "        vertical-align: middle;\n",
       "    }\n",
       "\n",
       "    .dataframe tbody tr th {\n",
       "        vertical-align: top;\n",
       "    }\n",
       "\n",
       "    .dataframe thead th {\n",
       "        text-align: right;\n",
       "    }\n",
       "</style>\n",
       "<table border=\"1\" class=\"dataframe\">\n",
       "  <thead>\n",
       "    <tr style=\"text-align: right;\">\n",
       "      <th></th>\n",
       "      <th>return_1</th>\n",
       "      <th>return_2</th>\n",
       "      <th>return_4</th>\n",
       "      <th>return_8</th>\n",
       "      <th>return_12</th>\n",
       "      <th>return_16</th>\n",
       "    </tr>\n",
       "  </thead>\n",
       "  <tbody>\n",
       "    <tr>\n",
       "      <th>count</th>\n",
       "      <td>36175.000000</td>\n",
       "      <td>36175.000000</td>\n",
       "      <td>36175.000000</td>\n",
       "      <td>36175.000000</td>\n",
       "      <td>3.617500e+04</td>\n",
       "      <td>36175.000000</td>\n",
       "    </tr>\n",
       "    <tr>\n",
       "      <th>mean</th>\n",
       "      <td>0.000027</td>\n",
       "      <td>0.000015</td>\n",
       "      <td>0.000007</td>\n",
       "      <td>0.000002</td>\n",
       "      <td>-7.093754e-07</td>\n",
       "      <td>-0.000002</td>\n",
       "    </tr>\n",
       "    <tr>\n",
       "      <th>std</th>\n",
       "      <td>0.005413</td>\n",
       "      <td>0.003865</td>\n",
       "      <td>0.002719</td>\n",
       "      <td>0.001904</td>\n",
       "      <td>1.555268e-03</td>\n",
       "      <td>0.001349</td>\n",
       "    </tr>\n",
       "    <tr>\n",
       "      <th>min</th>\n",
       "      <td>-0.016369</td>\n",
       "      <td>-0.011773</td>\n",
       "      <td>-0.008104</td>\n",
       "      <td>-0.005584</td>\n",
       "      <td>-4.523352e-03</td>\n",
       "      <td>-0.003790</td>\n",
       "    </tr>\n",
       "    <tr>\n",
       "      <th>25%</th>\n",
       "      <td>-0.002856</td>\n",
       "      <td>-0.002001</td>\n",
       "      <td>-0.001379</td>\n",
       "      <td>-0.000987</td>\n",
       "      <td>-8.169653e-04</td>\n",
       "      <td>-0.000733</td>\n",
       "    </tr>\n",
       "    <tr>\n",
       "      <th>50%</th>\n",
       "      <td>0.000000</td>\n",
       "      <td>0.000000</td>\n",
       "      <td>0.000000</td>\n",
       "      <td>-0.000016</td>\n",
       "      <td>-1.425832e-05</td>\n",
       "      <td>-0.000024</td>\n",
       "    </tr>\n",
       "    <tr>\n",
       "      <th>75%</th>\n",
       "      <td>0.002854</td>\n",
       "      <td>0.001965</td>\n",
       "      <td>0.001347</td>\n",
       "      <td>0.000936</td>\n",
       "      <td>7.584760e-04</td>\n",
       "      <td>0.000652</td>\n",
       "    </tr>\n",
       "    <tr>\n",
       "      <th>max</th>\n",
       "      <td>0.016894</td>\n",
       "      <td>0.012263</td>\n",
       "      <td>0.008620</td>\n",
       "      <td>0.006079</td>\n",
       "      <td>4.927133e-03</td>\n",
       "      <td>0.004269</td>\n",
       "    </tr>\n",
       "  </tbody>\n",
       "</table>\n",
       "</div>"
      ],
      "text/plain": [
       "           return_1      return_2      return_4      return_8     return_12  \\\n",
       "count  36175.000000  36175.000000  36175.000000  36175.000000  3.617500e+04   \n",
       "mean       0.000027      0.000015      0.000007      0.000002 -7.093754e-07   \n",
       "std        0.005413      0.003865      0.002719      0.001904  1.555268e-03   \n",
       "min       -0.016369     -0.011773     -0.008104     -0.005584 -4.523352e-03   \n",
       "25%       -0.002856     -0.002001     -0.001379     -0.000987 -8.169653e-04   \n",
       "50%        0.000000      0.000000      0.000000     -0.000016 -1.425832e-05   \n",
       "75%        0.002854      0.001965      0.001347      0.000936  7.584760e-04   \n",
       "max        0.016894      0.012263      0.008620      0.006079  4.927133e-03   \n",
       "\n",
       "          return_16  \n",
       "count  36175.000000  \n",
       "mean      -0.000002  \n",
       "std        0.001349  \n",
       "min       -0.003790  \n",
       "25%       -0.000733  \n",
       "50%       -0.000024  \n",
       "75%        0.000652  \n",
       "max        0.004269  "
      ]
     },
     "execution_count": 17,
     "metadata": {},
     "output_type": "execute_result"
    }
   ],
   "source": [
    "df.describe()"
   ]
  },
  {
   "cell_type": "code",
   "execution_count": 18,
   "metadata": {},
   "outputs": [
    {
     "data": {
      "image/png": "[encoded data removed]",
      "text/plain": [
       "<Figure size 1000x1000 with 4 Axes>"
      ]
     },
     "metadata": {},
     "output_type": "display_data"
    }
   ],
   "source": [
    "sns.clustermap(df.corr('spearman'), annot=True, center=0, cmap='Blues');"
   ]
  },
  {
   "cell_type": "code",
   "execution_count": null,
   "metadata": {},
   "outputs": [],
   "source": []
  }
 ],
 "metadata": {
  "kernelspec": {
   "display_name": "Python 3 (ipykernel)",
   "language": "python",
   "name": "python3"
  }
 },
 "nbformat": 4,
 "nbformat_minor": 2
}
